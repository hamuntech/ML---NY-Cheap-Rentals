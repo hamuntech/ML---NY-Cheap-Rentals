{
 "cells": [
  {
   "cell_type": "code",
   "execution_count": 5,
   "metadata": {},
   "outputs": [],
   "source": [
    "import numpy as np\n",
    "import pandas as pd\n",
    "import requests\n",
    "import matplotlib.pyplot as plt\n",
    "%matplotlib inline"
   ]
  },
  {
   "cell_type": "code",
   "execution_count": 6,
   "metadata": {},
   "outputs": [],
   "source": [
    "df = pd.read_csv('renthop2.csv')"
   ]
  },
  {
   "cell_type": "code",
   "execution_count": 7,
   "metadata": {},
   "outputs": [
    {
     "output_type": "execute_result",
     "data": {
      "text/plain": "                                                  url  \\\n0   https://www.renthop.com/listings/84th-street/3...   \n1   https://www.renthop.com/listings/e-14th-st/4br...   \n2   https://www.renthop.com/listings/w-69th-st/4/1...   \n3   https://www.renthop.com/listings/355-south-end...   \n4   https://www.renthop.com/listings/river-road/na...   \n5   https://www.renthop.com/listings/215-w-75th-st...   \n6   https://www.renthop.com/listings/227-east-96th...   \n7   https://www.renthop.com/listings/924-myrtle-av...   \n8   https://www.renthop.com/listings/east-85th-str...   \n9   https://www.renthop.com/listings/financial-dis...   \n10  https://www.renthop.com/listings/east-69th-st-...   \n11  https://www.renthop.com/listings/queens-street...   \n12  https://www.renthop.com/listings/864-nostrand-...   \n13  https://www.renthop.com/listings/202-e-13th-st...   \n14  https://www.renthop.com/listings/57th-st/407/1...   \n15  https://www.renthop.com/listings/43-columbia-p...   \n16  https://www.renthop.com/listings/church-st/0/1...   \n17  https://www.renthop.com/listings/kent-avenue/1...   \n18  https://www.renthop.com/listings/queens-plaza-...   \n19  https://www.renthop.com/listings/ashland-place...   \n20  https://www.renthop.com/listings/208-west-99th...   \n21  https://www.renthop.com/listings/57th-st/407/1...   \n22  https://www.renthop.com/listings/43-columbia-p...   \n23  https://www.renthop.com/listings/church-st/0/1...   \n24  https://www.renthop.com/listings/145-attorney-...   \n25  https://www.renthop.com/listings/kent-avenue/1...   \n26  https://www.renthop.com/listings/queens-plaza-...   \n27  https://www.renthop.com/listings/ashland-place...   \n28  https://www.renthop.com/listings/allen-street/...   \n29  https://www.renthop.com/listings/250-broome-st...   \n30  https://www.renthop.com/listings/east-6th-st/3...   \n31  https://www.renthop.com/listings/west-19th-str...   \n32  https://www.renthop.com/listings/90-thompson-s...   \n33  https://www.renthop.com/listings/battery-place...   \n34  https://www.renthop.com/listings/west-60s/2717...   \n35  https://www.renthop.com/listings/505-w-37th-st...   \n36  https://www.renthop.com/listings/w-21st-st/6-c...   \n37  https://www.renthop.com/listings/e-63rd-st/30f...   \n38  https://www.renthop.com/listings/north-9th-st/...   \n39  https://www.renthop.com/listings/1-ave-and-14-...   \n40  https://www.renthop.com/listings/e-63rd-st/30f...   \n41  https://www.renthop.com/listings/north-9th-st/...   \n42  https://www.renthop.com/listings/1-ave-and-14-...   \n43  https://www.renthop.com/listings/e-63rd-st/416...   \n44  https://www.renthop.com/listings/steinway-stre...   \n45  https://www.renthop.com/listings/10th-ave/29/1...   \n46  https://www.renthop.com/listings/e-15th-st/3r/...   \n47  https://www.renthop.com/listings/west-60s/1608...   \n48  https://www.renthop.com/listings/harrison-stre...   \n49  https://www.renthop.com/listings/washington-st...   \n50   https://www.renthop.com/listings/cpw/4s/12963319   \n51  https://www.renthop.com/listings/e-17th-st/0/1...   \n52  https://www.renthop.com/listings/center-blvd/n...   \n53  https://www.renthop.com/listings/gold-street/n...   \n54  https://www.renthop.com/listings/east-76th-str...   \n55  https://www.renthop.com/listings/east-2nd-stre...   \n56  https://www.renthop.com/listings/e-87th-st/12b...   \n57  https://www.renthop.com/listings/east-2nd-stre...   \n58  https://www.renthop.com/listings/orchard-stree...   \n59  https://www.renthop.com/listings/kent-avenue/1...   \n\n                         address  \\\n0                    84th Street   \n1                     E 14th St.   \n2                     W 69th St.   \n3   355 South End Avenue, Apt 4J   \n4                     river road   \n5        215 W 75th St, Apt 16/A   \n6           227 East 96th Street   \n7         924 Myrtle Ave, Apt 3B   \n8               East 85th Street   \n9             Financial District   \n10        East 69th St & 2nd Ave   \n11                 Queens Street   \n12    864 Nostrand Avenue, Apt 2   \n13        202 E 13th St., Apt 5G   \n14                       57th St   \n15        43 Columbia Pl, Apt 1B   \n16                    Church St.   \n17                   Kent Avenue   \n18            Queens Plaza North   \n19                 Ashland Place   \n20          208 West 99th Street   \n21                       57th St   \n22        43 Columbia Pl, Apt 1B   \n23                    Church St.   \n24      145 Attorney St., Apt 1B   \n25                   Kent Avenue   \n26            Queens Plaza North   \n27                 Ashland Place   \n28                  Allen Street   \n29   250 Broome Street, Apt 7A18   \n30                   East 6th St   \n31              West 19th Street   \n32        90 Thompson St, Apt E4   \n33                 Battery Place   \n34                     West 60's   \n35   505 W 37th Street, Apt 2209   \n36                     W 21st St   \n37                    E 63rd St.   \n38                  North 9th St   \n39               1 ave and 14 st   \n40                    E 63rd St.   \n41                  North 9th St   \n42               1 ave and 14 st   \n43                    E 63rd St.   \n44               Steinway Street   \n45                     10th Ave.   \n46                     E 15th St   \n47                     West 60's   \n48               Harrison Street   \n49                Washington St.   \n50                           Cpw   \n51                    E 17th St.   \n52                   Center Blvd   \n53                   Gold Street   \n54              East 76th Street   \n55               East 2nd Street   \n56                    E 87th St.   \n57               East 2nd Street   \n58                Orchard Street   \n59                   Kent Avenue   \n\n                                         neighborhood        rent    beds  \\\n0         Upper West Side, Upper Manhattan, Manhattan   $2,350.00   1_Bed   \n1         Gramercy Park, Midtown Manhattan, Manhattan   $6,495.00   4_Bed   \n2   Lincoln Square, Upper West Side, Upper Manhatt...   $2,900.00   1_Bed   \n3    Battery Park City, Downtown Manhattan, Manhattan   $5,748.00   2_Bed   \n4                         Roosevelt Island, Manhattan   $5,800.00   4_Bed   \n5         Upper West Side, Upper Manhattan, Manhattan   $5,600.00   2_Bed   \n6             East Harlem, Upper Manhattan, Manhattan   $1,995.00  Studio   \n7     Bedford-Stuyvesant, Northern Brooklyn, Brooklyn   $1,965.00  Studio   \n8   Yorkville, Upper East Side, Upper Manhattan, M...   $1,985.00  Studio   \n9   Financial District, Downtown Manhattan, Manhattan   $2,331.00  Studio   \n10        Upper East Side, Upper Manhattan, Manhattan   $3,695.00   2_Bed   \n11      Long Island City, Northwestern Queens, Queens   $3,340.00   2_Bed   \n12          Crown Heights, Central Brooklyn, Brooklyn   $2,899.00   3_Bed   \n13        East Village, Downtown Manhattan, Manhattan   $5,495.00   2_Bed   \n14       Hell's Kitchen, Midtown Manhattan, Manhattan   $2,746.00   1_Bed   \n15  Brooklyn Heights, Northwestern Brooklyn, Brooklyn   $2,488.00  Studio   \n16             Tribeca, Downtown Manhattan, Manhattan   $8,995.00   5_Bed   \n17          Williamsburg, Northern Brooklyn, Brooklyn   $5,335.00   2_Bed   \n18      Long Island City, Northwestern Queens, Queens   $2,599.00   1_Bed   \n19       Fort Greene, Northwestern Brooklyn, Brooklyn   $2,764.00  Studio   \n20  Manhattan Valley, Upper West Side, Upper Manha...   $3,493.00   2_Bed   \n21       Hell's Kitchen, Midtown Manhattan, Manhattan   $2,746.00   1_Bed   \n22  Brooklyn Heights, Northwestern Brooklyn, Brooklyn   $2,488.00  Studio   \n23             Tribeca, Downtown Manhattan, Manhattan   $8,995.00   5_Bed   \n24     Lower East Side, Downtown Manhattan, Manhattan   $9,895.00  Studio   \n25          Williamsburg, Northern Brooklyn, Brooklyn   $5,335.00   2_Bed   \n26      Long Island City, Northwestern Queens, Queens   $2,599.00   1_Bed   \n27       Fort Greene, Northwestern Brooklyn, Brooklyn   $2,764.00  Studio   \n28     Lower East Side, Downtown Manhattan, Manhattan   $3,200.00   2_Bed   \n29  Cooperative Village, Lower East Side, Downtown...   $2,246.00   2_Bed   \n30        East Village, Downtown Manhattan, Manhattan   $4,212.00   2_Bed   \n31              Chelsea, Midtown Manhattan, Manhattan   $4,800.00   2_Bed   \n32                SoHo, Downtown Manhattan, Manhattan   $5,750.00   3_Bed   \n33   Battery Park City, Downtown Manhattan, Manhattan   $3,495.00   1_Bed   \n34  Lincoln Square, Upper West Side, Upper Manhatt...   $8,350.00   2_Bed   \n35       Hell's Kitchen, Midtown Manhattan, Manhattan   $5,980.00   2_Bed   \n36              Chelsea, Midtown Manhattan, Manhattan   $3,850.00   1_Bed   \n37        Upper East Side, Upper Manhattan, Manhattan   $5,500.00   2_Bed   \n38          Williamsburg, Northern Brooklyn, Brooklyn   $3,470.00   1_Bed   \n39        East Village, Downtown Manhattan, Manhattan   $4,000.00   4_Bed   \n40        Upper East Side, Upper Manhattan, Manhattan   $5,500.00   2_Bed   \n41          Williamsburg, Northern Brooklyn, Brooklyn   $3,470.00   1_Bed   \n42        East Village, Downtown Manhattan, Manhattan   $4,000.00   4_Bed   \n43        Upper East Side, Upper Manhattan, Manhattan   $5,500.00   2_Bed   \n44     Steinway, Astoria, Northwestern Queens, Queens   $2,600.00   2_Bed   \n45       Hell's Kitchen, Midtown Manhattan, Manhattan   $6,000.00   4_Bed   \n46        Gramercy Park, Midtown Manhattan, Manhattan   $6,000.00   2_Bed   \n47  Lincoln Square, Upper West Side, Upper Manhatt...   $6,890.00   3_Bed   \n48             Tribeca, Downtown Manhattan, Manhattan   $6,695.00   4_Bed   \n49             DUMBO, Northwestern Brooklyn, Brooklyn   $3,643.00   1_Bed   \n50  Lincoln Square, Upper West Side, Upper Manhatt...  $20,000.00   5_Bed   \n51    Flatiron District, Midtown Manhattan, Manhattan  $10,000.00   5_Bed   \n52  Hunters Point, Long Island City, Northwestern ...   $2,235.00  Studio   \n53  Downtown Brooklyn, Northwestern Brooklyn, Broo...   $3,250.00   1_Bed   \n54        Upper East Side, Upper Manhattan, Manhattan   $2,800.00   1_Bed   \n55  Alphabet City, East Village, Downtown Manhatta...   $3,095.00   1_Bed   \n56  Yorkville, Upper East Side, Upper Manhattan, M...   $7,000.00   3_Bed   \n57  Alphabet City, East Village, Downtown Manhatta...   $3,250.00  Studio   \n58     Lower East Side, Downtown Manhattan, Manhattan   $3,438.00   2_Bed   \n59          Williamsburg, Northern Brooklyn, Brooklyn   $4,825.00   2_Bed   \n\n       baths  \n0     1_Bath  \n1   1.5_Bath  \n2     1_Bath  \n3     2_Bath  \n4     2_Bath  \n5     1_Bath  \n6     1_Bath  \n7     1_Bath  \n8     1_Bath  \n9     1_Bath  \n10    2_Bath  \n11    1_Bath  \n12    1_Bath  \n13    2_Bath  \n14    1_Bath  \n15    1_Bath  \n16    2_Bath  \n17    2_Bath  \n18    1_Bath  \n19    1_Bath  \n20    1_Bath  \n21    1_Bath  \n22    1_Bath  \n23    2_Bath  \n24  2.5_Bath  \n25    2_Bath  \n26    1_Bath  \n27    1_Bath  \n28    1_Bath  \n29    1_Bath  \n30    1_Bath  \n31    1_Bath  \n32    1_Bath  \n33    1_Bath  \n34    2_Bath  \n35    2_Bath  \n36    1_Bath  \n37    2_Bath  \n38    1_Bath  \n39    1_Bath  \n40    2_Bath  \n41    1_Bath  \n42    1_Bath  \n43    1_Bath  \n44    1_Bath  \n45    2_Bath  \n46    1_Bath  \n47    2_Bath  \n48    2_Bath  \n49    1_Bath  \n50  4.5_Bath  \n51    2_Bath  \n52    1_Bath  \n53    1_Bath  \n54    1_Bath  \n55    1_Bath  \n56    2_Bath  \n57    1_Bath  \n58    1_Bath  \n59    2_Bath  ",
      "text/html": "<div>\n<style scoped>\n    .dataframe tbody tr th:only-of-type {\n        vertical-align: middle;\n    }\n\n    .dataframe tbody tr th {\n        vertical-align: top;\n    }\n\n    .dataframe thead th {\n        text-align: right;\n    }\n</style>\n<table border=\"1\" class=\"dataframe\">\n  <thead>\n    <tr style=\"text-align: right;\">\n      <th></th>\n      <th>url</th>\n      <th>address</th>\n      <th>neighborhood</th>\n      <th>rent</th>\n      <th>beds</th>\n      <th>baths</th>\n    </tr>\n  </thead>\n  <tbody>\n    <tr>\n      <th>0</th>\n      <td>https://www.renthop.com/listings/84th-street/3...</td>\n      <td>84th Street</td>\n      <td>Upper West Side, Upper Manhattan, Manhattan</td>\n      <td>$2,350.00</td>\n      <td>1_Bed</td>\n      <td>1_Bath</td>\n    </tr>\n    <tr>\n      <th>1</th>\n      <td>https://www.renthop.com/listings/e-14th-st/4br...</td>\n      <td>E 14th St.</td>\n      <td>Gramercy Park, Midtown Manhattan, Manhattan</td>\n      <td>$6,495.00</td>\n      <td>4_Bed</td>\n      <td>1.5_Bath</td>\n    </tr>\n    <tr>\n      <th>2</th>\n      <td>https://www.renthop.com/listings/w-69th-st/4/1...</td>\n      <td>W 69th St.</td>\n      <td>Lincoln Square, Upper West Side, Upper Manhatt...</td>\n      <td>$2,900.00</td>\n      <td>1_Bed</td>\n      <td>1_Bath</td>\n    </tr>\n    <tr>\n      <th>3</th>\n      <td>https://www.renthop.com/listings/355-south-end...</td>\n      <td>355 South End Avenue, Apt 4J</td>\n      <td>Battery Park City, Downtown Manhattan, Manhattan</td>\n      <td>$5,748.00</td>\n      <td>2_Bed</td>\n      <td>2_Bath</td>\n    </tr>\n    <tr>\n      <th>4</th>\n      <td>https://www.renthop.com/listings/river-road/na...</td>\n      <td>river road</td>\n      <td>Roosevelt Island, Manhattan</td>\n      <td>$5,800.00</td>\n      <td>4_Bed</td>\n      <td>2_Bath</td>\n    </tr>\n    <tr>\n      <th>5</th>\n      <td>https://www.renthop.com/listings/215-w-75th-st...</td>\n      <td>215 W 75th St, Apt 16/A</td>\n      <td>Upper West Side, Upper Manhattan, Manhattan</td>\n      <td>$5,600.00</td>\n      <td>2_Bed</td>\n      <td>1_Bath</td>\n    </tr>\n    <tr>\n      <th>6</th>\n      <td>https://www.renthop.com/listings/227-east-96th...</td>\n      <td>227 East 96th Street</td>\n      <td>East Harlem, Upper Manhattan, Manhattan</td>\n      <td>$1,995.00</td>\n      <td>Studio</td>\n      <td>1_Bath</td>\n    </tr>\n    <tr>\n      <th>7</th>\n      <td>https://www.renthop.com/listings/924-myrtle-av...</td>\n      <td>924 Myrtle Ave, Apt 3B</td>\n      <td>Bedford-Stuyvesant, Northern Brooklyn, Brooklyn</td>\n      <td>$1,965.00</td>\n      <td>Studio</td>\n      <td>1_Bath</td>\n    </tr>\n    <tr>\n      <th>8</th>\n      <td>https://www.renthop.com/listings/east-85th-str...</td>\n      <td>East 85th Street</td>\n      <td>Yorkville, Upper East Side, Upper Manhattan, M...</td>\n      <td>$1,985.00</td>\n      <td>Studio</td>\n      <td>1_Bath</td>\n    </tr>\n    <tr>\n      <th>9</th>\n      <td>https://www.renthop.com/listings/financial-dis...</td>\n      <td>Financial District</td>\n      <td>Financial District, Downtown Manhattan, Manhattan</td>\n      <td>$2,331.00</td>\n      <td>Studio</td>\n      <td>1_Bath</td>\n    </tr>\n    <tr>\n      <th>10</th>\n      <td>https://www.renthop.com/listings/east-69th-st-...</td>\n      <td>East 69th St &amp; 2nd Ave</td>\n      <td>Upper East Side, Upper Manhattan, Manhattan</td>\n      <td>$3,695.00</td>\n      <td>2_Bed</td>\n      <td>2_Bath</td>\n    </tr>\n    <tr>\n      <th>11</th>\n      <td>https://www.renthop.com/listings/queens-street...</td>\n      <td>Queens Street</td>\n      <td>Long Island City, Northwestern Queens, Queens</td>\n      <td>$3,340.00</td>\n      <td>2_Bed</td>\n      <td>1_Bath</td>\n    </tr>\n    <tr>\n      <th>12</th>\n      <td>https://www.renthop.com/listings/864-nostrand-...</td>\n      <td>864 Nostrand Avenue, Apt 2</td>\n      <td>Crown Heights, Central Brooklyn, Brooklyn</td>\n      <td>$2,899.00</td>\n      <td>3_Bed</td>\n      <td>1_Bath</td>\n    </tr>\n    <tr>\n      <th>13</th>\n      <td>https://www.renthop.com/listings/202-e-13th-st...</td>\n      <td>202 E 13th St., Apt 5G</td>\n      <td>East Village, Downtown Manhattan, Manhattan</td>\n      <td>$5,495.00</td>\n      <td>2_Bed</td>\n      <td>2_Bath</td>\n    </tr>\n    <tr>\n      <th>14</th>\n      <td>https://www.renthop.com/listings/57th-st/407/1...</td>\n      <td>57th St</td>\n      <td>Hell's Kitchen, Midtown Manhattan, Manhattan</td>\n      <td>$2,746.00</td>\n      <td>1_Bed</td>\n      <td>1_Bath</td>\n    </tr>\n    <tr>\n      <th>15</th>\n      <td>https://www.renthop.com/listings/43-columbia-p...</td>\n      <td>43 Columbia Pl, Apt 1B</td>\n      <td>Brooklyn Heights, Northwestern Brooklyn, Brooklyn</td>\n      <td>$2,488.00</td>\n      <td>Studio</td>\n      <td>1_Bath</td>\n    </tr>\n    <tr>\n      <th>16</th>\n      <td>https://www.renthop.com/listings/church-st/0/1...</td>\n      <td>Church St.</td>\n      <td>Tribeca, Downtown Manhattan, Manhattan</td>\n      <td>$8,995.00</td>\n      <td>5_Bed</td>\n      <td>2_Bath</td>\n    </tr>\n    <tr>\n      <th>17</th>\n      <td>https://www.renthop.com/listings/kent-avenue/1...</td>\n      <td>Kent Avenue</td>\n      <td>Williamsburg, Northern Brooklyn, Brooklyn</td>\n      <td>$5,335.00</td>\n      <td>2_Bed</td>\n      <td>2_Bath</td>\n    </tr>\n    <tr>\n      <th>18</th>\n      <td>https://www.renthop.com/listings/queens-plaza-...</td>\n      <td>Queens Plaza North</td>\n      <td>Long Island City, Northwestern Queens, Queens</td>\n      <td>$2,599.00</td>\n      <td>1_Bed</td>\n      <td>1_Bath</td>\n    </tr>\n    <tr>\n      <th>19</th>\n      <td>https://www.renthop.com/listings/ashland-place...</td>\n      <td>Ashland Place</td>\n      <td>Fort Greene, Northwestern Brooklyn, Brooklyn</td>\n      <td>$2,764.00</td>\n      <td>Studio</td>\n      <td>1_Bath</td>\n    </tr>\n    <tr>\n      <th>20</th>\n      <td>https://www.renthop.com/listings/208-west-99th...</td>\n      <td>208 West 99th Street</td>\n      <td>Manhattan Valley, Upper West Side, Upper Manha...</td>\n      <td>$3,493.00</td>\n      <td>2_Bed</td>\n      <td>1_Bath</td>\n    </tr>\n    <tr>\n      <th>21</th>\n      <td>https://www.renthop.com/listings/57th-st/407/1...</td>\n      <td>57th St</td>\n      <td>Hell's Kitchen, Midtown Manhattan, Manhattan</td>\n      <td>$2,746.00</td>\n      <td>1_Bed</td>\n      <td>1_Bath</td>\n    </tr>\n    <tr>\n      <th>22</th>\n      <td>https://www.renthop.com/listings/43-columbia-p...</td>\n      <td>43 Columbia Pl, Apt 1B</td>\n      <td>Brooklyn Heights, Northwestern Brooklyn, Brooklyn</td>\n      <td>$2,488.00</td>\n      <td>Studio</td>\n      <td>1_Bath</td>\n    </tr>\n    <tr>\n      <th>23</th>\n      <td>https://www.renthop.com/listings/church-st/0/1...</td>\n      <td>Church St.</td>\n      <td>Tribeca, Downtown Manhattan, Manhattan</td>\n      <td>$8,995.00</td>\n      <td>5_Bed</td>\n      <td>2_Bath</td>\n    </tr>\n    <tr>\n      <th>24</th>\n      <td>https://www.renthop.com/listings/145-attorney-...</td>\n      <td>145 Attorney St., Apt 1B</td>\n      <td>Lower East Side, Downtown Manhattan, Manhattan</td>\n      <td>$9,895.00</td>\n      <td>Studio</td>\n      <td>2.5_Bath</td>\n    </tr>\n    <tr>\n      <th>25</th>\n      <td>https://www.renthop.com/listings/kent-avenue/1...</td>\n      <td>Kent Avenue</td>\n      <td>Williamsburg, Northern Brooklyn, Brooklyn</td>\n      <td>$5,335.00</td>\n      <td>2_Bed</td>\n      <td>2_Bath</td>\n    </tr>\n    <tr>\n      <th>26</th>\n      <td>https://www.renthop.com/listings/queens-plaza-...</td>\n      <td>Queens Plaza North</td>\n      <td>Long Island City, Northwestern Queens, Queens</td>\n      <td>$2,599.00</td>\n      <td>1_Bed</td>\n      <td>1_Bath</td>\n    </tr>\n    <tr>\n      <th>27</th>\n      <td>https://www.renthop.com/listings/ashland-place...</td>\n      <td>Ashland Place</td>\n      <td>Fort Greene, Northwestern Brooklyn, Brooklyn</td>\n      <td>$2,764.00</td>\n      <td>Studio</td>\n      <td>1_Bath</td>\n    </tr>\n    <tr>\n      <th>28</th>\n      <td>https://www.renthop.com/listings/allen-street/...</td>\n      <td>Allen Street</td>\n      <td>Lower East Side, Downtown Manhattan, Manhattan</td>\n      <td>$3,200.00</td>\n      <td>2_Bed</td>\n      <td>1_Bath</td>\n    </tr>\n    <tr>\n      <th>29</th>\n      <td>https://www.renthop.com/listings/250-broome-st...</td>\n      <td>250 Broome Street, Apt 7A18</td>\n      <td>Cooperative Village, Lower East Side, Downtown...</td>\n      <td>$2,246.00</td>\n      <td>2_Bed</td>\n      <td>1_Bath</td>\n    </tr>\n    <tr>\n      <th>30</th>\n      <td>https://www.renthop.com/listings/east-6th-st/3...</td>\n      <td>East 6th St</td>\n      <td>East Village, Downtown Manhattan, Manhattan</td>\n      <td>$4,212.00</td>\n      <td>2_Bed</td>\n      <td>1_Bath</td>\n    </tr>\n    <tr>\n      <th>31</th>\n      <td>https://www.renthop.com/listings/west-19th-str...</td>\n      <td>West 19th Street</td>\n      <td>Chelsea, Midtown Manhattan, Manhattan</td>\n      <td>$4,800.00</td>\n      <td>2_Bed</td>\n      <td>1_Bath</td>\n    </tr>\n    <tr>\n      <th>32</th>\n      <td>https://www.renthop.com/listings/90-thompson-s...</td>\n      <td>90 Thompson St, Apt E4</td>\n      <td>SoHo, Downtown Manhattan, Manhattan</td>\n      <td>$5,750.00</td>\n      <td>3_Bed</td>\n      <td>1_Bath</td>\n    </tr>\n    <tr>\n      <th>33</th>\n      <td>https://www.renthop.com/listings/battery-place...</td>\n      <td>Battery Place</td>\n      <td>Battery Park City, Downtown Manhattan, Manhattan</td>\n      <td>$3,495.00</td>\n      <td>1_Bed</td>\n      <td>1_Bath</td>\n    </tr>\n    <tr>\n      <th>34</th>\n      <td>https://www.renthop.com/listings/west-60s/2717...</td>\n      <td>West 60's</td>\n      <td>Lincoln Square, Upper West Side, Upper Manhatt...</td>\n      <td>$8,350.00</td>\n      <td>2_Bed</td>\n      <td>2_Bath</td>\n    </tr>\n    <tr>\n      <th>35</th>\n      <td>https://www.renthop.com/listings/505-w-37th-st...</td>\n      <td>505 W 37th Street, Apt 2209</td>\n      <td>Hell's Kitchen, Midtown Manhattan, Manhattan</td>\n      <td>$5,980.00</td>\n      <td>2_Bed</td>\n      <td>2_Bath</td>\n    </tr>\n    <tr>\n      <th>36</th>\n      <td>https://www.renthop.com/listings/w-21st-st/6-c...</td>\n      <td>W 21st St</td>\n      <td>Chelsea, Midtown Manhattan, Manhattan</td>\n      <td>$3,850.00</td>\n      <td>1_Bed</td>\n      <td>1_Bath</td>\n    </tr>\n    <tr>\n      <th>37</th>\n      <td>https://www.renthop.com/listings/e-63rd-st/30f...</td>\n      <td>E 63rd St.</td>\n      <td>Upper East Side, Upper Manhattan, Manhattan</td>\n      <td>$5,500.00</td>\n      <td>2_Bed</td>\n      <td>2_Bath</td>\n    </tr>\n    <tr>\n      <th>38</th>\n      <td>https://www.renthop.com/listings/north-9th-st/...</td>\n      <td>North 9th St</td>\n      <td>Williamsburg, Northern Brooklyn, Brooklyn</td>\n      <td>$3,470.00</td>\n      <td>1_Bed</td>\n      <td>1_Bath</td>\n    </tr>\n    <tr>\n      <th>39</th>\n      <td>https://www.renthop.com/listings/1-ave-and-14-...</td>\n      <td>1 ave and 14 st</td>\n      <td>East Village, Downtown Manhattan, Manhattan</td>\n      <td>$4,000.00</td>\n      <td>4_Bed</td>\n      <td>1_Bath</td>\n    </tr>\n    <tr>\n      <th>40</th>\n      <td>https://www.renthop.com/listings/e-63rd-st/30f...</td>\n      <td>E 63rd St.</td>\n      <td>Upper East Side, Upper Manhattan, Manhattan</td>\n      <td>$5,500.00</td>\n      <td>2_Bed</td>\n      <td>2_Bath</td>\n    </tr>\n    <tr>\n      <th>41</th>\n      <td>https://www.renthop.com/listings/north-9th-st/...</td>\n      <td>North 9th St</td>\n      <td>Williamsburg, Northern Brooklyn, Brooklyn</td>\n      <td>$3,470.00</td>\n      <td>1_Bed</td>\n      <td>1_Bath</td>\n    </tr>\n    <tr>\n      <th>42</th>\n      <td>https://www.renthop.com/listings/1-ave-and-14-...</td>\n      <td>1 ave and 14 st</td>\n      <td>East Village, Downtown Manhattan, Manhattan</td>\n      <td>$4,000.00</td>\n      <td>4_Bed</td>\n      <td>1_Bath</td>\n    </tr>\n    <tr>\n      <th>43</th>\n      <td>https://www.renthop.com/listings/e-63rd-st/416...</td>\n      <td>E 63rd St.</td>\n      <td>Upper East Side, Upper Manhattan, Manhattan</td>\n      <td>$5,500.00</td>\n      <td>2_Bed</td>\n      <td>1_Bath</td>\n    </tr>\n    <tr>\n      <th>44</th>\n      <td>https://www.renthop.com/listings/steinway-stre...</td>\n      <td>Steinway Street</td>\n      <td>Steinway, Astoria, Northwestern Queens, Queens</td>\n      <td>$2,600.00</td>\n      <td>2_Bed</td>\n      <td>1_Bath</td>\n    </tr>\n    <tr>\n      <th>45</th>\n      <td>https://www.renthop.com/listings/10th-ave/29/1...</td>\n      <td>10th Ave.</td>\n      <td>Hell's Kitchen, Midtown Manhattan, Manhattan</td>\n      <td>$6,000.00</td>\n      <td>4_Bed</td>\n      <td>2_Bath</td>\n    </tr>\n    <tr>\n      <th>46</th>\n      <td>https://www.renthop.com/listings/e-15th-st/3r/...</td>\n      <td>E 15th St</td>\n      <td>Gramercy Park, Midtown Manhattan, Manhattan</td>\n      <td>$6,000.00</td>\n      <td>2_Bed</td>\n      <td>1_Bath</td>\n    </tr>\n    <tr>\n      <th>47</th>\n      <td>https://www.renthop.com/listings/west-60s/1608...</td>\n      <td>West 60's</td>\n      <td>Lincoln Square, Upper West Side, Upper Manhatt...</td>\n      <td>$6,890.00</td>\n      <td>3_Bed</td>\n      <td>2_Bath</td>\n    </tr>\n    <tr>\n      <th>48</th>\n      <td>https://www.renthop.com/listings/harrison-stre...</td>\n      <td>Harrison Street</td>\n      <td>Tribeca, Downtown Manhattan, Manhattan</td>\n      <td>$6,695.00</td>\n      <td>4_Bed</td>\n      <td>2_Bath</td>\n    </tr>\n    <tr>\n      <th>49</th>\n      <td>https://www.renthop.com/listings/washington-st...</td>\n      <td>Washington St.</td>\n      <td>DUMBO, Northwestern Brooklyn, Brooklyn</td>\n      <td>$3,643.00</td>\n      <td>1_Bed</td>\n      <td>1_Bath</td>\n    </tr>\n    <tr>\n      <th>50</th>\n      <td>https://www.renthop.com/listings/cpw/4s/12963319</td>\n      <td>Cpw</td>\n      <td>Lincoln Square, Upper West Side, Upper Manhatt...</td>\n      <td>$20,000.00</td>\n      <td>5_Bed</td>\n      <td>4.5_Bath</td>\n    </tr>\n    <tr>\n      <th>51</th>\n      <td>https://www.renthop.com/listings/e-17th-st/0/1...</td>\n      <td>E 17th St.</td>\n      <td>Flatiron District, Midtown Manhattan, Manhattan</td>\n      <td>$10,000.00</td>\n      <td>5_Bed</td>\n      <td>2_Bath</td>\n    </tr>\n    <tr>\n      <th>52</th>\n      <td>https://www.renthop.com/listings/center-blvd/n...</td>\n      <td>Center Blvd</td>\n      <td>Hunters Point, Long Island City, Northwestern ...</td>\n      <td>$2,235.00</td>\n      <td>Studio</td>\n      <td>1_Bath</td>\n    </tr>\n    <tr>\n      <th>53</th>\n      <td>https://www.renthop.com/listings/gold-street/n...</td>\n      <td>Gold Street</td>\n      <td>Downtown Brooklyn, Northwestern Brooklyn, Broo...</td>\n      <td>$3,250.00</td>\n      <td>1_Bed</td>\n      <td>1_Bath</td>\n    </tr>\n    <tr>\n      <th>54</th>\n      <td>https://www.renthop.com/listings/east-76th-str...</td>\n      <td>East 76th Street</td>\n      <td>Upper East Side, Upper Manhattan, Manhattan</td>\n      <td>$2,800.00</td>\n      <td>1_Bed</td>\n      <td>1_Bath</td>\n    </tr>\n    <tr>\n      <th>55</th>\n      <td>https://www.renthop.com/listings/east-2nd-stre...</td>\n      <td>East 2nd Street</td>\n      <td>Alphabet City, East Village, Downtown Manhatta...</td>\n      <td>$3,095.00</td>\n      <td>1_Bed</td>\n      <td>1_Bath</td>\n    </tr>\n    <tr>\n      <th>56</th>\n      <td>https://www.renthop.com/listings/e-87th-st/12b...</td>\n      <td>E 87th St.</td>\n      <td>Yorkville, Upper East Side, Upper Manhattan, M...</td>\n      <td>$7,000.00</td>\n      <td>3_Bed</td>\n      <td>2_Bath</td>\n    </tr>\n    <tr>\n      <th>57</th>\n      <td>https://www.renthop.com/listings/east-2nd-stre...</td>\n      <td>East 2nd Street</td>\n      <td>Alphabet City, East Village, Downtown Manhatta...</td>\n      <td>$3,250.00</td>\n      <td>Studio</td>\n      <td>1_Bath</td>\n    </tr>\n    <tr>\n      <th>58</th>\n      <td>https://www.renthop.com/listings/orchard-stree...</td>\n      <td>Orchard Street</td>\n      <td>Lower East Side, Downtown Manhattan, Manhattan</td>\n      <td>$3,438.00</td>\n      <td>2_Bed</td>\n      <td>1_Bath</td>\n    </tr>\n    <tr>\n      <th>59</th>\n      <td>https://www.renthop.com/listings/kent-avenue/1...</td>\n      <td>Kent Avenue</td>\n      <td>Williamsburg, Northern Brooklyn, Brooklyn</td>\n      <td>$4,825.00</td>\n      <td>2_Bed</td>\n      <td>2_Bath</td>\n    </tr>\n  </tbody>\n</table>\n</div>"
     },
     "metadata": {},
     "execution_count": 7
    }
   ],
   "source": [
    "df"
   ]
  },
  {
   "cell_type": "code",
   "execution_count": 8,
   "metadata": {},
   "outputs": [
    {
     "output_type": "execute_result",
     "data": {
      "text/plain": "array(['1_Bed', '4_Bed', '2_Bed', 'Studio', '3_Bed', '5_Bed'],\n      dtype=object)"
     },
     "metadata": {},
     "execution_count": 8
    }
   ],
   "source": [
    "df['beds'].unique()"
   ]
  },
  {
   "cell_type": "code",
   "execution_count": 9,
   "metadata": {},
   "outputs": [
    {
     "output_type": "execute_result",
     "data": {
      "text/plain": "array(['1_Bath', '1.5_Bath', '2_Bath', '2.5_Bath', '4.5_Bath'],\n      dtype=object)"
     },
     "metadata": {},
     "execution_count": 9
    }
   ],
   "source": [
    "df['baths'].unique()"
   ]
  },
  {
   "cell_type": "code",
   "execution_count": 10,
   "metadata": {},
   "outputs": [],
   "source": [
    "df['beds'] = df['beds'].map(lambda x: x[1:] if x.startswith('_') else x)\n",
    "df['baths'] = df['baths'].map(lambda x: x[1:] if x.startswith('_') else x)"
   ]
  },
  {
   "cell_type": "code",
   "execution_count": 11,
   "metadata": {},
   "outputs": [
    {
     "output_type": "execute_result",
     "data": {
      "text/plain": "array(['1_Bed', '4_Bed', '2_Bed', 'Studio', '3_Bed', '5_Bed'],\n      dtype=object)"
     },
     "metadata": {},
     "execution_count": 11
    }
   ],
   "source": [
    "df['beds'].unique()"
   ]
  },
  {
   "cell_type": "code",
   "execution_count": 12,
   "metadata": {},
   "outputs": [
    {
     "output_type": "execute_result",
     "data": {
      "text/plain": "array(['1_Bath', '1.5_Bath', '2_Bath', '2.5_Bath', '4.5_Bath'],\n      dtype=object)"
     },
     "metadata": {},
     "execution_count": 12
    }
   ],
   "source": [
    "df['baths'].unique()"
   ]
  },
  {
   "cell_type": "code",
   "execution_count": 13,
   "metadata": {},
   "outputs": [
    {
     "output_type": "execute_result",
     "data": {
      "text/plain": "                                                      url     address  \\\ncount                                                  60          60   \nunique                                                 49          47   \ntop     https://www.renthop.com/listings/kent-avenue/1...  E 63rd St.   \nfreq                                                    3           3   \n\n                                     neighborhood       rent   beds   baths  \ncount                                          60         60     60      60  \nunique                                         29         48      6       5  \ntop     Williamsburg, Northern Brooklyn, Brooklyn  $5,500.00  2_Bed  1_Bath  \nfreq                                            5          3     21      39  ",
      "text/html": "<div>\n<style scoped>\n    .dataframe tbody tr th:only-of-type {\n        vertical-align: middle;\n    }\n\n    .dataframe tbody tr th {\n        vertical-align: top;\n    }\n\n    .dataframe thead th {\n        text-align: right;\n    }\n</style>\n<table border=\"1\" class=\"dataframe\">\n  <thead>\n    <tr style=\"text-align: right;\">\n      <th></th>\n      <th>url</th>\n      <th>address</th>\n      <th>neighborhood</th>\n      <th>rent</th>\n      <th>beds</th>\n      <th>baths</th>\n    </tr>\n  </thead>\n  <tbody>\n    <tr>\n      <th>count</th>\n      <td>60</td>\n      <td>60</td>\n      <td>60</td>\n      <td>60</td>\n      <td>60</td>\n      <td>60</td>\n    </tr>\n    <tr>\n      <th>unique</th>\n      <td>49</td>\n      <td>47</td>\n      <td>29</td>\n      <td>48</td>\n      <td>6</td>\n      <td>5</td>\n    </tr>\n    <tr>\n      <th>top</th>\n      <td>https://www.renthop.com/listings/kent-avenue/1...</td>\n      <td>E 63rd St.</td>\n      <td>Williamsburg, Northern Brooklyn, Brooklyn</td>\n      <td>$5,500.00</td>\n      <td>2_Bed</td>\n      <td>1_Bath</td>\n    </tr>\n    <tr>\n      <th>freq</th>\n      <td>3</td>\n      <td>3</td>\n      <td>5</td>\n      <td>3</td>\n      <td>21</td>\n      <td>39</td>\n    </tr>\n  </tbody>\n</table>\n</div>"
     },
     "metadata": {},
     "execution_count": 13
    }
   ],
   "source": [
    "df.describe()"
   ]
  },
  {
   "cell_type": "code",
   "execution_count": 14,
   "metadata": {},
   "outputs": [
    {
     "output_type": "execute_result",
     "data": {
      "text/plain": "Index(['url', 'address', 'neighborhood', 'rent', 'beds', 'baths'], dtype='object')"
     },
     "metadata": {},
     "execution_count": 14
    }
   ],
   "source": [
    "df.columns"
   ]
  },
  {
   "cell_type": "code",
   "execution_count": 15,
   "metadata": {},
   "outputs": [
    {
     "output_type": "execute_result",
     "data": {
      "text/plain": "pandas.core.frame.DataFrame"
     },
     "metadata": {},
     "execution_count": 15
    }
   ],
   "source": [
    "type(df)"
   ]
  },
  {
   "cell_type": "code",
   "execution_count": 16,
   "metadata": {},
   "outputs": [],
   "source": [
    "rent = df['rent']"
   ]
  },
  {
   "cell_type": "code",
   "execution_count": 17,
   "metadata": {},
   "outputs": [
    {
     "output_type": "execute_result",
     "data": {
      "text/plain": "0    $2,350.00\n1    $6,495.00\n2    $2,900.00\n3    $5,748.00\n4    $5,800.00\nName: rent, dtype: object"
     },
     "metadata": {},
     "execution_count": 17
    }
   ],
   "source": [
    "rent.head(5)"
   ]
  },
  {
   "cell_type": "code",
   "execution_count": 18,
   "metadata": {},
   "outputs": [],
   "source": [
    "df['rent'] = df['rent'].map(lambda x: str(x).replace('$','').replace(',','')).astype('float').astype('int')\n",
    "df['beds'] = df['beds'].map(lambda x: str(x).replace('_Bed', ''))\n",
    "df['beds'] = df['beds'].map(lambda x: x.replace('Studio', '0'))\n",
    "df['beds'] = df['beds'].map(lambda x: x.replace('Loft', '0')).astype('int')\n",
    "df['baths'] = df['baths'].map(lambda x: str(x).replace('_Bath', '')).astype('float')"
   ]
  },
  {
   "cell_type": "code",
   "execution_count": 19,
   "metadata": {},
   "outputs": [
    {
     "output_type": "execute_result",
     "data": {
      "text/plain": "                                                 url  \\\n0  https://www.renthop.com/listings/84th-street/3...   \n1  https://www.renthop.com/listings/e-14th-st/4br...   \n2  https://www.renthop.com/listings/w-69th-st/4/1...   \n3  https://www.renthop.com/listings/355-south-end...   \n4  https://www.renthop.com/listings/river-road/na...   \n\n                        address  \\\n0                   84th Street   \n1                    E 14th St.   \n2                    W 69th St.   \n3  355 South End Avenue, Apt 4J   \n4                    river road   \n\n                                        neighborhood  rent  beds  baths  \n0        Upper West Side, Upper Manhattan, Manhattan  2350     1    1.0  \n1        Gramercy Park, Midtown Manhattan, Manhattan  6495     4    1.5  \n2  Lincoln Square, Upper West Side, Upper Manhatt...  2900     1    1.0  \n3   Battery Park City, Downtown Manhattan, Manhattan  5748     2    2.0  \n4                        Roosevelt Island, Manhattan  5800     4    2.0  ",
      "text/html": "<div>\n<style scoped>\n    .dataframe tbody tr th:only-of-type {\n        vertical-align: middle;\n    }\n\n    .dataframe tbody tr th {\n        vertical-align: top;\n    }\n\n    .dataframe thead th {\n        text-align: right;\n    }\n</style>\n<table border=\"1\" class=\"dataframe\">\n  <thead>\n    <tr style=\"text-align: right;\">\n      <th></th>\n      <th>url</th>\n      <th>address</th>\n      <th>neighborhood</th>\n      <th>rent</th>\n      <th>beds</th>\n      <th>baths</th>\n    </tr>\n  </thead>\n  <tbody>\n    <tr>\n      <th>0</th>\n      <td>https://www.renthop.com/listings/84th-street/3...</td>\n      <td>84th Street</td>\n      <td>Upper West Side, Upper Manhattan, Manhattan</td>\n      <td>2350</td>\n      <td>1</td>\n      <td>1.0</td>\n    </tr>\n    <tr>\n      <th>1</th>\n      <td>https://www.renthop.com/listings/e-14th-st/4br...</td>\n      <td>E 14th St.</td>\n      <td>Gramercy Park, Midtown Manhattan, Manhattan</td>\n      <td>6495</td>\n      <td>4</td>\n      <td>1.5</td>\n    </tr>\n    <tr>\n      <th>2</th>\n      <td>https://www.renthop.com/listings/w-69th-st/4/1...</td>\n      <td>W 69th St.</td>\n      <td>Lincoln Square, Upper West Side, Upper Manhatt...</td>\n      <td>2900</td>\n      <td>1</td>\n      <td>1.0</td>\n    </tr>\n    <tr>\n      <th>3</th>\n      <td>https://www.renthop.com/listings/355-south-end...</td>\n      <td>355 South End Avenue, Apt 4J</td>\n      <td>Battery Park City, Downtown Manhattan, Manhattan</td>\n      <td>5748</td>\n      <td>2</td>\n      <td>2.0</td>\n    </tr>\n    <tr>\n      <th>4</th>\n      <td>https://www.renthop.com/listings/river-road/na...</td>\n      <td>river road</td>\n      <td>Roosevelt Island, Manhattan</td>\n      <td>5800</td>\n      <td>4</td>\n      <td>2.0</td>\n    </tr>\n  </tbody>\n</table>\n</div>"
     },
     "metadata": {},
     "execution_count": 19
    }
   ],
   "source": [
    "df.head(5)"
   ]
  },
  {
   "cell_type": "code",
   "execution_count": 20,
   "metadata": {},
   "outputs": [
    {
     "output_type": "execute_result",
     "data": {
      "text/plain": "url              object\naddress          object\nneighborhood     object\nrent              int64\nbeds              int64\nbaths           float64\ndtype: object"
     },
     "metadata": {},
     "execution_count": 20
    }
   ],
   "source": [
    "df.dtypes"
   ]
  },
  {
   "cell_type": "code",
   "execution_count": 21,
   "metadata": {},
   "outputs": [
    {
     "output_type": "execute_result",
     "data": {
      "text/plain": "                                                   count\nneighborhood                                            \nWilliamsburg, Northern Brooklyn, Brooklyn              5\nUpper East Side, Upper Manhattan, Manhattan            5\nLincoln Square, Upper West Side, Upper Manhatt...      4\nHell's Kitchen, Midtown Manhattan, Manhattan           4\nEast Village, Downtown Manhattan, Manhattan            4\nTribeca, Downtown Manhattan, Manhattan                 3\nLower East Side, Downtown Manhattan, Manhattan         3\nLong Island City, Northwestern Queens, Queens          3\nAlphabet City, East Village, Downtown Manhatta...      2\nFort Greene, Northwestern Brooklyn, Brooklyn           2\nUpper West Side, Upper Manhattan, Manhattan            2\nBattery Park City, Downtown Manhattan, Manhattan       2\nGramercy Park, Midtown Manhattan, Manhattan            2\nChelsea, Midtown Manhattan, Manhattan                  2\nBrooklyn Heights, Northwestern Brooklyn, Brooklyn      2\nYorkville, Upper East Side, Upper Manhattan, M...      2\nFlatiron District, Midtown Manhattan, Manhattan        1\nFinancial District, Downtown Manhattan, Manhattan      1\nEast Harlem, Upper Manhattan, Manhattan                1\nHunters Point, Long Island City, Northwestern ...      1\nDowntown Brooklyn, Northwestern Brooklyn, Broo...      1\nDUMBO, Northwestern Brooklyn, Brooklyn                 1\nCrown Heights, Central Brooklyn, Brooklyn              1\nManhattan Valley, Upper West Side, Upper Manha...      1\nRoosevelt Island, Manhattan                            1\nSoHo, Downtown Manhattan, Manhattan                    1\nSteinway, Astoria, Northwestern Queens, Queens         1\nCooperative Village, Lower East Side, Downtown...      1\nBedford-Stuyvesant, Northern Brooklyn, Brooklyn        1",
      "text/html": "<div>\n<style scoped>\n    .dataframe tbody tr th:only-of-type {\n        vertical-align: middle;\n    }\n\n    .dataframe tbody tr th {\n        vertical-align: top;\n    }\n\n    .dataframe thead th {\n        text-align: right;\n    }\n</style>\n<table border=\"1\" class=\"dataframe\">\n  <thead>\n    <tr style=\"text-align: right;\">\n      <th></th>\n      <th>count</th>\n    </tr>\n    <tr>\n      <th>neighborhood</th>\n      <th></th>\n    </tr>\n  </thead>\n  <tbody>\n    <tr>\n      <th>Williamsburg, Northern Brooklyn, Brooklyn</th>\n      <td>5</td>\n    </tr>\n    <tr>\n      <th>Upper East Side, Upper Manhattan, Manhattan</th>\n      <td>5</td>\n    </tr>\n    <tr>\n      <th>Lincoln Square, Upper West Side, Upper Manhatt...</th>\n      <td>4</td>\n    </tr>\n    <tr>\n      <th>Hell's Kitchen, Midtown Manhattan, Manhattan</th>\n      <td>4</td>\n    </tr>\n    <tr>\n      <th>East Village, Downtown Manhattan, Manhattan</th>\n      <td>4</td>\n    </tr>\n    <tr>\n      <th>Tribeca, Downtown Manhattan, Manhattan</th>\n      <td>3</td>\n    </tr>\n    <tr>\n      <th>Lower East Side, Downtown Manhattan, Manhattan</th>\n      <td>3</td>\n    </tr>\n    <tr>\n      <th>Long Island City, Northwestern Queens, Queens</th>\n      <td>3</td>\n    </tr>\n    <tr>\n      <th>Alphabet City, East Village, Downtown Manhatta...</th>\n      <td>2</td>\n    </tr>\n    <tr>\n      <th>Fort Greene, Northwestern Brooklyn, Brooklyn</th>\n      <td>2</td>\n    </tr>\n    <tr>\n      <th>Upper West Side, Upper Manhattan, Manhattan</th>\n      <td>2</td>\n    </tr>\n    <tr>\n      <th>Battery Park City, Downtown Manhattan, Manhattan</th>\n      <td>2</td>\n    </tr>\n    <tr>\n      <th>Gramercy Park, Midtown Manhattan, Manhattan</th>\n      <td>2</td>\n    </tr>\n    <tr>\n      <th>Chelsea, Midtown Manhattan, Manhattan</th>\n      <td>2</td>\n    </tr>\n    <tr>\n      <th>Brooklyn Heights, Northwestern Brooklyn, Brooklyn</th>\n      <td>2</td>\n    </tr>\n    <tr>\n      <th>Yorkville, Upper East Side, Upper Manhattan, M...</th>\n      <td>2</td>\n    </tr>\n    <tr>\n      <th>Flatiron District, Midtown Manhattan, Manhattan</th>\n      <td>1</td>\n    </tr>\n    <tr>\n      <th>Financial District, Downtown Manhattan, Manhattan</th>\n      <td>1</td>\n    </tr>\n    <tr>\n      <th>East Harlem, Upper Manhattan, Manhattan</th>\n      <td>1</td>\n    </tr>\n    <tr>\n      <th>Hunters Point, Long Island City, Northwestern ...</th>\n      <td>1</td>\n    </tr>\n    <tr>\n      <th>Downtown Brooklyn, Northwestern Brooklyn, Broo...</th>\n      <td>1</td>\n    </tr>\n    <tr>\n      <th>DUMBO, Northwestern Brooklyn, Brooklyn</th>\n      <td>1</td>\n    </tr>\n    <tr>\n      <th>Crown Heights, Central Brooklyn, Brooklyn</th>\n      <td>1</td>\n    </tr>\n    <tr>\n      <th>Manhattan Valley, Upper West Side, Upper Manha...</th>\n      <td>1</td>\n    </tr>\n    <tr>\n      <th>Roosevelt Island, Manhattan</th>\n      <td>1</td>\n    </tr>\n    <tr>\n      <th>SoHo, Downtown Manhattan, Manhattan</th>\n      <td>1</td>\n    </tr>\n    <tr>\n      <th>Steinway, Astoria, Northwestern Queens, Queens</th>\n      <td>1</td>\n    </tr>\n    <tr>\n      <th>Cooperative Village, Lower East Side, Downtown...</th>\n      <td>1</td>\n    </tr>\n    <tr>\n      <th>Bedford-Stuyvesant, Northern Brooklyn, Brooklyn</th>\n      <td>1</td>\n    </tr>\n  </tbody>\n</table>\n</div>"
     },
     "metadata": {},
     "execution_count": 21
    }
   ],
   "source": [
    "df.groupby('neighborhood')['rent'].count().to_frame('count').sort_values(by='count', ascending=False)"
   ]
  },
  {
   "cell_type": "code",
   "execution_count": 22,
   "metadata": {},
   "outputs": [
    {
     "output_type": "execute_result",
     "data": {
      "text/plain": "Upper East Side, Upper Manhattan, Manhattan          5\nYorkville, Upper East Side, Upper Manhattan, M...    2\nName: neighborhood, dtype: int64"
     },
     "metadata": {},
     "execution_count": 22
    }
   ],
   "source": [
    "df[df['neighborhood'].str.contains('Upper East Side')]['neighborhood'].value_counts()"
   ]
  },
  {
   "cell_type": "code",
   "execution_count": 23,
   "metadata": {},
   "outputs": [],
   "source": [
    "df['neighborhood'] = df['neighborhood'].map(lambda x: x.strip())"
   ]
  },
  {
   "cell_type": "code",
   "execution_count": 24,
   "metadata": {},
   "outputs": [
    {
     "output_type": "execute_result",
     "data": {
      "text/plain": "                                                           mean\nneighborhood                                                   \nFlatiron District, Midtown Manhattan, Manhattan    10000.000000\nLincoln Square, Upper West Side, Upper Manhatt...   9535.000000\nTribeca, Downtown Manhattan, Manhattan              8228.333333\nGramercy Park, Midtown Manhattan, Manhattan         6247.500000\nRoosevelt Island, Manhattan                         5800.000000\nSoHo, Downtown Manhattan, Manhattan                 5750.000000\nLower East Side, Downtown Manhattan, Manhattan      5511.000000\nBattery Park City, Downtown Manhattan, Manhattan    4621.500000\nUpper East Side, Upper Manhattan, Manhattan         4599.000000\nYorkville, Upper East Side, Upper Manhattan, M...   4492.500000\nWilliamsburg, Northern Brooklyn, Brooklyn           4487.000000\nEast Village, Downtown Manhattan, Manhattan         4426.750000\nHell's Kitchen, Midtown Manhattan, Manhattan        4368.000000\nChelsea, Midtown Manhattan, Manhattan               4325.000000\nUpper West Side, Upper Manhattan, Manhattan         3975.000000\nDUMBO, Northwestern Brooklyn, Brooklyn              3643.000000\nManhattan Valley, Upper West Side, Upper Manha...   3493.000000\nDowntown Brooklyn, Northwestern Brooklyn, Broo...   3250.000000\nAlphabet City, East Village, Downtown Manhatta...   3172.500000\nCrown Heights, Central Brooklyn, Brooklyn           2899.000000\nLong Island City, Northwestern Queens, Queens       2846.000000\nFort Greene, Northwestern Brooklyn, Brooklyn        2764.000000\nSteinway, Astoria, Northwestern Queens, Queens      2600.000000\nBrooklyn Heights, Northwestern Brooklyn, Brooklyn   2488.000000\nFinancial District, Downtown Manhattan, Manhattan   2331.000000\nCooperative Village, Lower East Side, Downtown...   2246.000000\nHunters Point, Long Island City, Northwestern ...   2235.000000\nEast Harlem, Upper Manhattan, Manhattan             1995.000000\nBedford-Stuyvesant, Northern Brooklyn, Brooklyn     1965.000000",
      "text/html": "<div>\n<style scoped>\n    .dataframe tbody tr th:only-of-type {\n        vertical-align: middle;\n    }\n\n    .dataframe tbody tr th {\n        vertical-align: top;\n    }\n\n    .dataframe thead th {\n        text-align: right;\n    }\n</style>\n<table border=\"1\" class=\"dataframe\">\n  <thead>\n    <tr style=\"text-align: right;\">\n      <th></th>\n      <th>mean</th>\n    </tr>\n    <tr>\n      <th>neighborhood</th>\n      <th></th>\n    </tr>\n  </thead>\n  <tbody>\n    <tr>\n      <th>Flatiron District, Midtown Manhattan, Manhattan</th>\n      <td>10000.000000</td>\n    </tr>\n    <tr>\n      <th>Lincoln Square, Upper West Side, Upper Manhatt...</th>\n      <td>9535.000000</td>\n    </tr>\n    <tr>\n      <th>Tribeca, Downtown Manhattan, Manhattan</th>\n      <td>8228.333333</td>\n    </tr>\n    <tr>\n      <th>Gramercy Park, Midtown Manhattan, Manhattan</th>\n      <td>6247.500000</td>\n    </tr>\n    <tr>\n      <th>Roosevelt Island, Manhattan</th>\n      <td>5800.000000</td>\n    </tr>\n    <tr>\n      <th>SoHo, Downtown Manhattan, Manhattan</th>\n      <td>5750.000000</td>\n    </tr>\n    <tr>\n      <th>Lower East Side, Downtown Manhattan, Manhattan</th>\n      <td>5511.000000</td>\n    </tr>\n    <tr>\n      <th>Battery Park City, Downtown Manhattan, Manhattan</th>\n      <td>4621.500000</td>\n    </tr>\n    <tr>\n      <th>Upper East Side, Upper Manhattan, Manhattan</th>\n      <td>4599.000000</td>\n    </tr>\n    <tr>\n      <th>Yorkville, Upper East Side, Upper Manhattan, M...</th>\n      <td>4492.500000</td>\n    </tr>\n    <tr>\n      <th>Williamsburg, Northern Brooklyn, Brooklyn</th>\n      <td>4487.000000</td>\n    </tr>\n    <tr>\n      <th>East Village, Downtown Manhattan, Manhattan</th>\n      <td>4426.750000</td>\n    </tr>\n    <tr>\n      <th>Hell's Kitchen, Midtown Manhattan, Manhattan</th>\n      <td>4368.000000</td>\n    </tr>\n    <tr>\n      <th>Chelsea, Midtown Manhattan, Manhattan</th>\n      <td>4325.000000</td>\n    </tr>\n    <tr>\n      <th>Upper West Side, Upper Manhattan, Manhattan</th>\n      <td>3975.000000</td>\n    </tr>\n    <tr>\n      <th>DUMBO, Northwestern Brooklyn, Brooklyn</th>\n      <td>3643.000000</td>\n    </tr>\n    <tr>\n      <th>Manhattan Valley, Upper West Side, Upper Manha...</th>\n      <td>3493.000000</td>\n    </tr>\n    <tr>\n      <th>Downtown Brooklyn, Northwestern Brooklyn, Broo...</th>\n      <td>3250.000000</td>\n    </tr>\n    <tr>\n      <th>Alphabet City, East Village, Downtown Manhatta...</th>\n      <td>3172.500000</td>\n    </tr>\n    <tr>\n      <th>Crown Heights, Central Brooklyn, Brooklyn</th>\n      <td>2899.000000</td>\n    </tr>\n    <tr>\n      <th>Long Island City, Northwestern Queens, Queens</th>\n      <td>2846.000000</td>\n    </tr>\n    <tr>\n      <th>Fort Greene, Northwestern Brooklyn, Brooklyn</th>\n      <td>2764.000000</td>\n    </tr>\n    <tr>\n      <th>Steinway, Astoria, Northwestern Queens, Queens</th>\n      <td>2600.000000</td>\n    </tr>\n    <tr>\n      <th>Brooklyn Heights, Northwestern Brooklyn, Brooklyn</th>\n      <td>2488.000000</td>\n    </tr>\n    <tr>\n      <th>Financial District, Downtown Manhattan, Manhattan</th>\n      <td>2331.000000</td>\n    </tr>\n    <tr>\n      <th>Cooperative Village, Lower East Side, Downtown...</th>\n      <td>2246.000000</td>\n    </tr>\n    <tr>\n      <th>Hunters Point, Long Island City, Northwestern ...</th>\n      <td>2235.000000</td>\n    </tr>\n    <tr>\n      <th>East Harlem, Upper Manhattan, Manhattan</th>\n      <td>1995.000000</td>\n    </tr>\n    <tr>\n      <th>Bedford-Stuyvesant, Northern Brooklyn, Brooklyn</th>\n      <td>1965.000000</td>\n    </tr>\n  </tbody>\n</table>\n</div>"
     },
     "metadata": {},
     "execution_count": 24
    }
   ],
   "source": [
    "df.groupby('neighborhood')['rent'].mean().to_frame('mean').sort_values(by='mean', ascending=False)"
   ]
  },
  {
   "cell_type": "code",
   "execution_count": 25,
   "metadata": {},
   "outputs": [
    {
     "output_type": "stream",
     "name": "stdout",
     "text": "Stored variables and their in-db values:\n"
    },
    {
     "output_type": "execute_result",
     "data": {
      "text/plain": "                                                  url  \\\n0   https://www.renthop.com/listings/84th-street/3...   \n1   https://www.renthop.com/listings/e-14th-st/4br...   \n2   https://www.renthop.com/listings/w-69th-st/4/1...   \n3   https://www.renthop.com/listings/355-south-end...   \n4   https://www.renthop.com/listings/river-road/na...   \n5   https://www.renthop.com/listings/215-w-75th-st...   \n6   https://www.renthop.com/listings/227-east-96th...   \n7   https://www.renthop.com/listings/924-myrtle-av...   \n8   https://www.renthop.com/listings/east-85th-str...   \n9   https://www.renthop.com/listings/financial-dis...   \n10  https://www.renthop.com/listings/east-69th-st-...   \n11  https://www.renthop.com/listings/queens-street...   \n12  https://www.renthop.com/listings/864-nostrand-...   \n13  https://www.renthop.com/listings/202-e-13th-st...   \n14  https://www.renthop.com/listings/57th-st/407/1...   \n15  https://www.renthop.com/listings/43-columbia-p...   \n16  https://www.renthop.com/listings/church-st/0/1...   \n17  https://www.renthop.com/listings/kent-avenue/1...   \n18  https://www.renthop.com/listings/queens-plaza-...   \n19  https://www.renthop.com/listings/ashland-place...   \n20  https://www.renthop.com/listings/208-west-99th...   \n21  https://www.renthop.com/listings/57th-st/407/1...   \n22  https://www.renthop.com/listings/43-columbia-p...   \n23  https://www.renthop.com/listings/church-st/0/1...   \n24  https://www.renthop.com/listings/145-attorney-...   \n25  https://www.renthop.com/listings/kent-avenue/1...   \n26  https://www.renthop.com/listings/queens-plaza-...   \n27  https://www.renthop.com/listings/ashland-place...   \n28  https://www.renthop.com/listings/allen-street/...   \n29  https://www.renthop.com/listings/250-broome-st...   \n30  https://www.renthop.com/listings/east-6th-st/3...   \n31  https://www.renthop.com/listings/west-19th-str...   \n32  https://www.renthop.com/listings/90-thompson-s...   \n33  https://www.renthop.com/listings/battery-place...   \n34  https://www.renthop.com/listings/west-60s/2717...   \n35  https://www.renthop.com/listings/505-w-37th-st...   \n36  https://www.renthop.com/listings/w-21st-st/6-c...   \n37  https://www.renthop.com/listings/e-63rd-st/30f...   \n38  https://www.renthop.com/listings/north-9th-st/...   \n39  https://www.renthop.com/listings/1-ave-and-14-...   \n40  https://www.renthop.com/listings/e-63rd-st/30f...   \n41  https://www.renthop.com/listings/north-9th-st/...   \n42  https://www.renthop.com/listings/1-ave-and-14-...   \n43  https://www.renthop.com/listings/e-63rd-st/416...   \n44  https://www.renthop.com/listings/steinway-stre...   \n45  https://www.renthop.com/listings/10th-ave/29/1...   \n46  https://www.renthop.com/listings/e-15th-st/3r/...   \n47  https://www.renthop.com/listings/west-60s/1608...   \n48  https://www.renthop.com/listings/harrison-stre...   \n49  https://www.renthop.com/listings/washington-st...   \n50   https://www.renthop.com/listings/cpw/4s/12963319   \n51  https://www.renthop.com/listings/e-17th-st/0/1...   \n52  https://www.renthop.com/listings/center-blvd/n...   \n53  https://www.renthop.com/listings/gold-street/n...   \n54  https://www.renthop.com/listings/east-76th-str...   \n55  https://www.renthop.com/listings/east-2nd-stre...   \n56  https://www.renthop.com/listings/e-87th-st/12b...   \n57  https://www.renthop.com/listings/east-2nd-stre...   \n58  https://www.renthop.com/listings/orchard-stree...   \n59  https://www.renthop.com/listings/kent-avenue/1...   \n\n                         address  \\\n0                    84th Street   \n1                     E 14th St.   \n2                     W 69th St.   \n3   355 South End Avenue, Apt 4J   \n4                     river road   \n5        215 W 75th St, Apt 16/A   \n6           227 East 96th Street   \n7         924 Myrtle Ave, Apt 3B   \n8               East 85th Street   \n9             Financial District   \n10        East 69th St & 2nd Ave   \n11                 Queens Street   \n12    864 Nostrand Avenue, Apt 2   \n13        202 E 13th St., Apt 5G   \n14                       57th St   \n15        43 Columbia Pl, Apt 1B   \n16                    Church St.   \n17                   Kent Avenue   \n18            Queens Plaza North   \n19                 Ashland Place   \n20          208 West 99th Street   \n21                       57th St   \n22        43 Columbia Pl, Apt 1B   \n23                    Church St.   \n24      145 Attorney St., Apt 1B   \n25                   Kent Avenue   \n26            Queens Plaza North   \n27                 Ashland Place   \n28                  Allen Street   \n29   250 Broome Street, Apt 7A18   \n30                   East 6th St   \n31              West 19th Street   \n32        90 Thompson St, Apt E4   \n33                 Battery Place   \n34                     West 60's   \n35   505 W 37th Street, Apt 2209   \n36                     W 21st St   \n37                    E 63rd St.   \n38                  North 9th St   \n39               1 ave and 14 st   \n40                    E 63rd St.   \n41                  North 9th St   \n42               1 ave and 14 st   \n43                    E 63rd St.   \n44               Steinway Street   \n45                     10th Ave.   \n46                     E 15th St   \n47                     West 60's   \n48               Harrison Street   \n49                Washington St.   \n50                           Cpw   \n51                    E 17th St.   \n52                   Center Blvd   \n53                   Gold Street   \n54              East 76th Street   \n55               East 2nd Street   \n56                    E 87th St.   \n57               East 2nd Street   \n58                Orchard Street   \n59                   Kent Avenue   \n\n                                         neighborhood   rent  beds  baths  \n0         Upper West Side, Upper Manhattan, Manhattan   2350     1    1.0  \n1         Gramercy Park, Midtown Manhattan, Manhattan   6495     4    1.5  \n2   Lincoln Square, Upper West Side, Upper Manhatt...   2900     1    1.0  \n3    Battery Park City, Downtown Manhattan, Manhattan   5748     2    2.0  \n4                         Roosevelt Island, Manhattan   5800     4    2.0  \n5         Upper West Side, Upper Manhattan, Manhattan   5600     2    1.0  \n6             East Harlem, Upper Manhattan, Manhattan   1995     0    1.0  \n7     Bedford-Stuyvesant, Northern Brooklyn, Brooklyn   1965     0    1.0  \n8   Yorkville, Upper East Side, Upper Manhattan, M...   1985     0    1.0  \n9   Financial District, Downtown Manhattan, Manhattan   2331     0    1.0  \n10        Upper East Side, Upper Manhattan, Manhattan   3695     2    2.0  \n11      Long Island City, Northwestern Queens, Queens   3340     2    1.0  \n12          Crown Heights, Central Brooklyn, Brooklyn   2899     3    1.0  \n13        East Village, Downtown Manhattan, Manhattan   5495     2    2.0  \n14       Hell's Kitchen, Midtown Manhattan, Manhattan   2746     1    1.0  \n15  Brooklyn Heights, Northwestern Brooklyn, Brooklyn   2488     0    1.0  \n16             Tribeca, Downtown Manhattan, Manhattan   8995     5    2.0  \n17          Williamsburg, Northern Brooklyn, Brooklyn   5335     2    2.0  \n18      Long Island City, Northwestern Queens, Queens   2599     1    1.0  \n19       Fort Greene, Northwestern Brooklyn, Brooklyn   2764     0    1.0  \n20  Manhattan Valley, Upper West Side, Upper Manha...   3493     2    1.0  \n21       Hell's Kitchen, Midtown Manhattan, Manhattan   2746     1    1.0  \n22  Brooklyn Heights, Northwestern Brooklyn, Brooklyn   2488     0    1.0  \n23             Tribeca, Downtown Manhattan, Manhattan   8995     5    2.0  \n24     Lower East Side, Downtown Manhattan, Manhattan   9895     0    2.5  \n25          Williamsburg, Northern Brooklyn, Brooklyn   5335     2    2.0  \n26      Long Island City, Northwestern Queens, Queens   2599     1    1.0  \n27       Fort Greene, Northwestern Brooklyn, Brooklyn   2764     0    1.0  \n28     Lower East Side, Downtown Manhattan, Manhattan   3200     2    1.0  \n29  Cooperative Village, Lower East Side, Downtown...   2246     2    1.0  \n30        East Village, Downtown Manhattan, Manhattan   4212     2    1.0  \n31              Chelsea, Midtown Manhattan, Manhattan   4800     2    1.0  \n32                SoHo, Downtown Manhattan, Manhattan   5750     3    1.0  \n33   Battery Park City, Downtown Manhattan, Manhattan   3495     1    1.0  \n34  Lincoln Square, Upper West Side, Upper Manhatt...   8350     2    2.0  \n35       Hell's Kitchen, Midtown Manhattan, Manhattan   5980     2    2.0  \n36              Chelsea, Midtown Manhattan, Manhattan   3850     1    1.0  \n37        Upper East Side, Upper Manhattan, Manhattan   5500     2    2.0  \n38          Williamsburg, Northern Brooklyn, Brooklyn   3470     1    1.0  \n39        East Village, Downtown Manhattan, Manhattan   4000     4    1.0  \n40        Upper East Side, Upper Manhattan, Manhattan   5500     2    2.0  \n41          Williamsburg, Northern Brooklyn, Brooklyn   3470     1    1.0  \n42        East Village, Downtown Manhattan, Manhattan   4000     4    1.0  \n43        Upper East Side, Upper Manhattan, Manhattan   5500     2    1.0  \n44     Steinway, Astoria, Northwestern Queens, Queens   2600     2    1.0  \n45       Hell's Kitchen, Midtown Manhattan, Manhattan   6000     4    2.0  \n46        Gramercy Park, Midtown Manhattan, Manhattan   6000     2    1.0  \n47  Lincoln Square, Upper West Side, Upper Manhatt...   6890     3    2.0  \n48             Tribeca, Downtown Manhattan, Manhattan   6695     4    2.0  \n49             DUMBO, Northwestern Brooklyn, Brooklyn   3643     1    1.0  \n50  Lincoln Square, Upper West Side, Upper Manhatt...  20000     5    4.5  \n51    Flatiron District, Midtown Manhattan, Manhattan  10000     5    2.0  \n52  Hunters Point, Long Island City, Northwestern ...   2235     0    1.0  \n53  Downtown Brooklyn, Northwestern Brooklyn, Broo...   3250     1    1.0  \n54        Upper East Side, Upper Manhattan, Manhattan   2800     1    1.0  \n55  Alphabet City, East Village, Downtown Manhatta...   3095     1    1.0  \n56  Yorkville, Upper East Side, Upper Manhattan, M...   7000     3    2.0  \n57  Alphabet City, East Village, Downtown Manhatta...   3250     0    1.0  \n58     Lower East Side, Downtown Manhattan, Manhattan   3438     2    1.0  \n59          Williamsburg, Northern Brooklyn, Brooklyn   4825     2    2.0  ",
      "text/html": "<div>\n<style scoped>\n    .dataframe tbody tr th:only-of-type {\n        vertical-align: middle;\n    }\n\n    .dataframe tbody tr th {\n        vertical-align: top;\n    }\n\n    .dataframe thead th {\n        text-align: right;\n    }\n</style>\n<table border=\"1\" class=\"dataframe\">\n  <thead>\n    <tr style=\"text-align: right;\">\n      <th></th>\n      <th>url</th>\n      <th>address</th>\n      <th>neighborhood</th>\n      <th>rent</th>\n      <th>beds</th>\n      <th>baths</th>\n    </tr>\n  </thead>\n  <tbody>\n    <tr>\n      <th>0</th>\n      <td>https://www.renthop.com/listings/84th-street/3...</td>\n      <td>84th Street</td>\n      <td>Upper West Side, Upper Manhattan, Manhattan</td>\n      <td>2350</td>\n      <td>1</td>\n      <td>1.0</td>\n    </tr>\n    <tr>\n      <th>1</th>\n      <td>https://www.renthop.com/listings/e-14th-st/4br...</td>\n      <td>E 14th St.</td>\n      <td>Gramercy Park, Midtown Manhattan, Manhattan</td>\n      <td>6495</td>\n      <td>4</td>\n      <td>1.5</td>\n    </tr>\n    <tr>\n      <th>2</th>\n      <td>https://www.renthop.com/listings/w-69th-st/4/1...</td>\n      <td>W 69th St.</td>\n      <td>Lincoln Square, Upper West Side, Upper Manhatt...</td>\n      <td>2900</td>\n      <td>1</td>\n      <td>1.0</td>\n    </tr>\n    <tr>\n      <th>3</th>\n      <td>https://www.renthop.com/listings/355-south-end...</td>\n      <td>355 South End Avenue, Apt 4J</td>\n      <td>Battery Park City, Downtown Manhattan, Manhattan</td>\n      <td>5748</td>\n      <td>2</td>\n      <td>2.0</td>\n    </tr>\n    <tr>\n      <th>4</th>\n      <td>https://www.renthop.com/listings/river-road/na...</td>\n      <td>river road</td>\n      <td>Roosevelt Island, Manhattan</td>\n      <td>5800</td>\n      <td>4</td>\n      <td>2.0</td>\n    </tr>\n    <tr>\n      <th>5</th>\n      <td>https://www.renthop.com/listings/215-w-75th-st...</td>\n      <td>215 W 75th St, Apt 16/A</td>\n      <td>Upper West Side, Upper Manhattan, Manhattan</td>\n      <td>5600</td>\n      <td>2</td>\n      <td>1.0</td>\n    </tr>\n    <tr>\n      <th>6</th>\n      <td>https://www.renthop.com/listings/227-east-96th...</td>\n      <td>227 East 96th Street</td>\n      <td>East Harlem, Upper Manhattan, Manhattan</td>\n      <td>1995</td>\n      <td>0</td>\n      <td>1.0</td>\n    </tr>\n    <tr>\n      <th>7</th>\n      <td>https://www.renthop.com/listings/924-myrtle-av...</td>\n      <td>924 Myrtle Ave, Apt 3B</td>\n      <td>Bedford-Stuyvesant, Northern Brooklyn, Brooklyn</td>\n      <td>1965</td>\n      <td>0</td>\n      <td>1.0</td>\n    </tr>\n    <tr>\n      <th>8</th>\n      <td>https://www.renthop.com/listings/east-85th-str...</td>\n      <td>East 85th Street</td>\n      <td>Yorkville, Upper East Side, Upper Manhattan, M...</td>\n      <td>1985</td>\n      <td>0</td>\n      <td>1.0</td>\n    </tr>\n    <tr>\n      <th>9</th>\n      <td>https://www.renthop.com/listings/financial-dis...</td>\n      <td>Financial District</td>\n      <td>Financial District, Downtown Manhattan, Manhattan</td>\n      <td>2331</td>\n      <td>0</td>\n      <td>1.0</td>\n    </tr>\n    <tr>\n      <th>10</th>\n      <td>https://www.renthop.com/listings/east-69th-st-...</td>\n      <td>East 69th St &amp; 2nd Ave</td>\n      <td>Upper East Side, Upper Manhattan, Manhattan</td>\n      <td>3695</td>\n      <td>2</td>\n      <td>2.0</td>\n    </tr>\n    <tr>\n      <th>11</th>\n      <td>https://www.renthop.com/listings/queens-street...</td>\n      <td>Queens Street</td>\n      <td>Long Island City, Northwestern Queens, Queens</td>\n      <td>3340</td>\n      <td>2</td>\n      <td>1.0</td>\n    </tr>\n    <tr>\n      <th>12</th>\n      <td>https://www.renthop.com/listings/864-nostrand-...</td>\n      <td>864 Nostrand Avenue, Apt 2</td>\n      <td>Crown Heights, Central Brooklyn, Brooklyn</td>\n      <td>2899</td>\n      <td>3</td>\n      <td>1.0</td>\n    </tr>\n    <tr>\n      <th>13</th>\n      <td>https://www.renthop.com/listings/202-e-13th-st...</td>\n      <td>202 E 13th St., Apt 5G</td>\n      <td>East Village, Downtown Manhattan, Manhattan</td>\n      <td>5495</td>\n      <td>2</td>\n      <td>2.0</td>\n    </tr>\n    <tr>\n      <th>14</th>\n      <td>https://www.renthop.com/listings/57th-st/407/1...</td>\n      <td>57th St</td>\n      <td>Hell's Kitchen, Midtown Manhattan, Manhattan</td>\n      <td>2746</td>\n      <td>1</td>\n      <td>1.0</td>\n    </tr>\n    <tr>\n      <th>15</th>\n      <td>https://www.renthop.com/listings/43-columbia-p...</td>\n      <td>43 Columbia Pl, Apt 1B</td>\n      <td>Brooklyn Heights, Northwestern Brooklyn, Brooklyn</td>\n      <td>2488</td>\n      <td>0</td>\n      <td>1.0</td>\n    </tr>\n    <tr>\n      <th>16</th>\n      <td>https://www.renthop.com/listings/church-st/0/1...</td>\n      <td>Church St.</td>\n      <td>Tribeca, Downtown Manhattan, Manhattan</td>\n      <td>8995</td>\n      <td>5</td>\n      <td>2.0</td>\n    </tr>\n    <tr>\n      <th>17</th>\n      <td>https://www.renthop.com/listings/kent-avenue/1...</td>\n      <td>Kent Avenue</td>\n      <td>Williamsburg, Northern Brooklyn, Brooklyn</td>\n      <td>5335</td>\n      <td>2</td>\n      <td>2.0</td>\n    </tr>\n    <tr>\n      <th>18</th>\n      <td>https://www.renthop.com/listings/queens-plaza-...</td>\n      <td>Queens Plaza North</td>\n      <td>Long Island City, Northwestern Queens, Queens</td>\n      <td>2599</td>\n      <td>1</td>\n      <td>1.0</td>\n    </tr>\n    <tr>\n      <th>19</th>\n      <td>https://www.renthop.com/listings/ashland-place...</td>\n      <td>Ashland Place</td>\n      <td>Fort Greene, Northwestern Brooklyn, Brooklyn</td>\n      <td>2764</td>\n      <td>0</td>\n      <td>1.0</td>\n    </tr>\n    <tr>\n      <th>20</th>\n      <td>https://www.renthop.com/listings/208-west-99th...</td>\n      <td>208 West 99th Street</td>\n      <td>Manhattan Valley, Upper West Side, Upper Manha...</td>\n      <td>3493</td>\n      <td>2</td>\n      <td>1.0</td>\n    </tr>\n    <tr>\n      <th>21</th>\n      <td>https://www.renthop.com/listings/57th-st/407/1...</td>\n      <td>57th St</td>\n      <td>Hell's Kitchen, Midtown Manhattan, Manhattan</td>\n      <td>2746</td>\n      <td>1</td>\n      <td>1.0</td>\n    </tr>\n    <tr>\n      <th>22</th>\n      <td>https://www.renthop.com/listings/43-columbia-p...</td>\n      <td>43 Columbia Pl, Apt 1B</td>\n      <td>Brooklyn Heights, Northwestern Brooklyn, Brooklyn</td>\n      <td>2488</td>\n      <td>0</td>\n      <td>1.0</td>\n    </tr>\n    <tr>\n      <th>23</th>\n      <td>https://www.renthop.com/listings/church-st/0/1...</td>\n      <td>Church St.</td>\n      <td>Tribeca, Downtown Manhattan, Manhattan</td>\n      <td>8995</td>\n      <td>5</td>\n      <td>2.0</td>\n    </tr>\n    <tr>\n      <th>24</th>\n      <td>https://www.renthop.com/listings/145-attorney-...</td>\n      <td>145 Attorney St., Apt 1B</td>\n      <td>Lower East Side, Downtown Manhattan, Manhattan</td>\n      <td>9895</td>\n      <td>0</td>\n      <td>2.5</td>\n    </tr>\n    <tr>\n      <th>25</th>\n      <td>https://www.renthop.com/listings/kent-avenue/1...</td>\n      <td>Kent Avenue</td>\n      <td>Williamsburg, Northern Brooklyn, Brooklyn</td>\n      <td>5335</td>\n      <td>2</td>\n      <td>2.0</td>\n    </tr>\n    <tr>\n      <th>26</th>\n      <td>https://www.renthop.com/listings/queens-plaza-...</td>\n      <td>Queens Plaza North</td>\n      <td>Long Island City, Northwestern Queens, Queens</td>\n      <td>2599</td>\n      <td>1</td>\n      <td>1.0</td>\n    </tr>\n    <tr>\n      <th>27</th>\n      <td>https://www.renthop.com/listings/ashland-place...</td>\n      <td>Ashland Place</td>\n      <td>Fort Greene, Northwestern Brooklyn, Brooklyn</td>\n      <td>2764</td>\n      <td>0</td>\n      <td>1.0</td>\n    </tr>\n    <tr>\n      <th>28</th>\n      <td>https://www.renthop.com/listings/allen-street/...</td>\n      <td>Allen Street</td>\n      <td>Lower East Side, Downtown Manhattan, Manhattan</td>\n      <td>3200</td>\n      <td>2</td>\n      <td>1.0</td>\n    </tr>\n    <tr>\n      <th>29</th>\n      <td>https://www.renthop.com/listings/250-broome-st...</td>\n      <td>250 Broome Street, Apt 7A18</td>\n      <td>Cooperative Village, Lower East Side, Downtown...</td>\n      <td>2246</td>\n      <td>2</td>\n      <td>1.0</td>\n    </tr>\n    <tr>\n      <th>30</th>\n      <td>https://www.renthop.com/listings/east-6th-st/3...</td>\n      <td>East 6th St</td>\n      <td>East Village, Downtown Manhattan, Manhattan</td>\n      <td>4212</td>\n      <td>2</td>\n      <td>1.0</td>\n    </tr>\n    <tr>\n      <th>31</th>\n      <td>https://www.renthop.com/listings/west-19th-str...</td>\n      <td>West 19th Street</td>\n      <td>Chelsea, Midtown Manhattan, Manhattan</td>\n      <td>4800</td>\n      <td>2</td>\n      <td>1.0</td>\n    </tr>\n    <tr>\n      <th>32</th>\n      <td>https://www.renthop.com/listings/90-thompson-s...</td>\n      <td>90 Thompson St, Apt E4</td>\n      <td>SoHo, Downtown Manhattan, Manhattan</td>\n      <td>5750</td>\n      <td>3</td>\n      <td>1.0</td>\n    </tr>\n    <tr>\n      <th>33</th>\n      <td>https://www.renthop.com/listings/battery-place...</td>\n      <td>Battery Place</td>\n      <td>Battery Park City, Downtown Manhattan, Manhattan</td>\n      <td>3495</td>\n      <td>1</td>\n      <td>1.0</td>\n    </tr>\n    <tr>\n      <th>34</th>\n      <td>https://www.renthop.com/listings/west-60s/2717...</td>\n      <td>West 60's</td>\n      <td>Lincoln Square, Upper West Side, Upper Manhatt...</td>\n      <td>8350</td>\n      <td>2</td>\n      <td>2.0</td>\n    </tr>\n    <tr>\n      <th>35</th>\n      <td>https://www.renthop.com/listings/505-w-37th-st...</td>\n      <td>505 W 37th Street, Apt 2209</td>\n      <td>Hell's Kitchen, Midtown Manhattan, Manhattan</td>\n      <td>5980</td>\n      <td>2</td>\n      <td>2.0</td>\n    </tr>\n    <tr>\n      <th>36</th>\n      <td>https://www.renthop.com/listings/w-21st-st/6-c...</td>\n      <td>W 21st St</td>\n      <td>Chelsea, Midtown Manhattan, Manhattan</td>\n      <td>3850</td>\n      <td>1</td>\n      <td>1.0</td>\n    </tr>\n    <tr>\n      <th>37</th>\n      <td>https://www.renthop.com/listings/e-63rd-st/30f...</td>\n      <td>E 63rd St.</td>\n      <td>Upper East Side, Upper Manhattan, Manhattan</td>\n      <td>5500</td>\n      <td>2</td>\n      <td>2.0</td>\n    </tr>\n    <tr>\n      <th>38</th>\n      <td>https://www.renthop.com/listings/north-9th-st/...</td>\n      <td>North 9th St</td>\n      <td>Williamsburg, Northern Brooklyn, Brooklyn</td>\n      <td>3470</td>\n      <td>1</td>\n      <td>1.0</td>\n    </tr>\n    <tr>\n      <th>39</th>\n      <td>https://www.renthop.com/listings/1-ave-and-14-...</td>\n      <td>1 ave and 14 st</td>\n      <td>East Village, Downtown Manhattan, Manhattan</td>\n      <td>4000</td>\n      <td>4</td>\n      <td>1.0</td>\n    </tr>\n    <tr>\n      <th>40</th>\n      <td>https://www.renthop.com/listings/e-63rd-st/30f...</td>\n      <td>E 63rd St.</td>\n      <td>Upper East Side, Upper Manhattan, Manhattan</td>\n      <td>5500</td>\n      <td>2</td>\n      <td>2.0</td>\n    </tr>\n    <tr>\n      <th>41</th>\n      <td>https://www.renthop.com/listings/north-9th-st/...</td>\n      <td>North 9th St</td>\n      <td>Williamsburg, Northern Brooklyn, Brooklyn</td>\n      <td>3470</td>\n      <td>1</td>\n      <td>1.0</td>\n    </tr>\n    <tr>\n      <th>42</th>\n      <td>https://www.renthop.com/listings/1-ave-and-14-...</td>\n      <td>1 ave and 14 st</td>\n      <td>East Village, Downtown Manhattan, Manhattan</td>\n      <td>4000</td>\n      <td>4</td>\n      <td>1.0</td>\n    </tr>\n    <tr>\n      <th>43</th>\n      <td>https://www.renthop.com/listings/e-63rd-st/416...</td>\n      <td>E 63rd St.</td>\n      <td>Upper East Side, Upper Manhattan, Manhattan</td>\n      <td>5500</td>\n      <td>2</td>\n      <td>1.0</td>\n    </tr>\n    <tr>\n      <th>44</th>\n      <td>https://www.renthop.com/listings/steinway-stre...</td>\n      <td>Steinway Street</td>\n      <td>Steinway, Astoria, Northwestern Queens, Queens</td>\n      <td>2600</td>\n      <td>2</td>\n      <td>1.0</td>\n    </tr>\n    <tr>\n      <th>45</th>\n      <td>https://www.renthop.com/listings/10th-ave/29/1...</td>\n      <td>10th Ave.</td>\n      <td>Hell's Kitchen, Midtown Manhattan, Manhattan</td>\n      <td>6000</td>\n      <td>4</td>\n      <td>2.0</td>\n    </tr>\n    <tr>\n      <th>46</th>\n      <td>https://www.renthop.com/listings/e-15th-st/3r/...</td>\n      <td>E 15th St</td>\n      <td>Gramercy Park, Midtown Manhattan, Manhattan</td>\n      <td>6000</td>\n      <td>2</td>\n      <td>1.0</td>\n    </tr>\n    <tr>\n      <th>47</th>\n      <td>https://www.renthop.com/listings/west-60s/1608...</td>\n      <td>West 60's</td>\n      <td>Lincoln Square, Upper West Side, Upper Manhatt...</td>\n      <td>6890</td>\n      <td>3</td>\n      <td>2.0</td>\n    </tr>\n    <tr>\n      <th>48</th>\n      <td>https://www.renthop.com/listings/harrison-stre...</td>\n      <td>Harrison Street</td>\n      <td>Tribeca, Downtown Manhattan, Manhattan</td>\n      <td>6695</td>\n      <td>4</td>\n      <td>2.0</td>\n    </tr>\n    <tr>\n      <th>49</th>\n      <td>https://www.renthop.com/listings/washington-st...</td>\n      <td>Washington St.</td>\n      <td>DUMBO, Northwestern Brooklyn, Brooklyn</td>\n      <td>3643</td>\n      <td>1</td>\n      <td>1.0</td>\n    </tr>\n    <tr>\n      <th>50</th>\n      <td>https://www.renthop.com/listings/cpw/4s/12963319</td>\n      <td>Cpw</td>\n      <td>Lincoln Square, Upper West Side, Upper Manhatt...</td>\n      <td>20000</td>\n      <td>5</td>\n      <td>4.5</td>\n    </tr>\n    <tr>\n      <th>51</th>\n      <td>https://www.renthop.com/listings/e-17th-st/0/1...</td>\n      <td>E 17th St.</td>\n      <td>Flatiron District, Midtown Manhattan, Manhattan</td>\n      <td>10000</td>\n      <td>5</td>\n      <td>2.0</td>\n    </tr>\n    <tr>\n      <th>52</th>\n      <td>https://www.renthop.com/listings/center-blvd/n...</td>\n      <td>Center Blvd</td>\n      <td>Hunters Point, Long Island City, Northwestern ...</td>\n      <td>2235</td>\n      <td>0</td>\n      <td>1.0</td>\n    </tr>\n    <tr>\n      <th>53</th>\n      <td>https://www.renthop.com/listings/gold-street/n...</td>\n      <td>Gold Street</td>\n      <td>Downtown Brooklyn, Northwestern Brooklyn, Broo...</td>\n      <td>3250</td>\n      <td>1</td>\n      <td>1.0</td>\n    </tr>\n    <tr>\n      <th>54</th>\n      <td>https://www.renthop.com/listings/east-76th-str...</td>\n      <td>East 76th Street</td>\n      <td>Upper East Side, Upper Manhattan, Manhattan</td>\n      <td>2800</td>\n      <td>1</td>\n      <td>1.0</td>\n    </tr>\n    <tr>\n      <th>55</th>\n      <td>https://www.renthop.com/listings/east-2nd-stre...</td>\n      <td>East 2nd Street</td>\n      <td>Alphabet City, East Village, Downtown Manhatta...</td>\n      <td>3095</td>\n      <td>1</td>\n      <td>1.0</td>\n    </tr>\n    <tr>\n      <th>56</th>\n      <td>https://www.renthop.com/listings/e-87th-st/12b...</td>\n      <td>E 87th St.</td>\n      <td>Yorkville, Upper East Side, Upper Manhattan, M...</td>\n      <td>7000</td>\n      <td>3</td>\n      <td>2.0</td>\n    </tr>\n    <tr>\n      <th>57</th>\n      <td>https://www.renthop.com/listings/east-2nd-stre...</td>\n      <td>East 2nd Street</td>\n      <td>Alphabet City, East Village, Downtown Manhatta...</td>\n      <td>3250</td>\n      <td>0</td>\n      <td>1.0</td>\n    </tr>\n    <tr>\n      <th>58</th>\n      <td>https://www.renthop.com/listings/orchard-stree...</td>\n      <td>Orchard Street</td>\n      <td>Lower East Side, Downtown Manhattan, Manhattan</td>\n      <td>3438</td>\n      <td>2</td>\n      <td>1.0</td>\n    </tr>\n    <tr>\n      <th>59</th>\n      <td>https://www.renthop.com/listings/kent-avenue/1...</td>\n      <td>Kent Avenue</td>\n      <td>Williamsburg, Northern Brooklyn, Brooklyn</td>\n      <td>4825</td>\n      <td>2</td>\n      <td>2.0</td>\n    </tr>\n  </tbody>\n</table>\n</div>"
     },
     "metadata": {},
     "execution_count": 25
    }
   ],
   "source": [
    "%store\n",
    "df"
   ]
  },
  {
   "cell_type": "code",
   "execution_count": 26,
   "metadata": {},
   "outputs": [],
   "source": [
    "import googlemaps"
   ]
  },
  {
   "cell_type": "code",
   "execution_count": 32,
   "metadata": {},
   "outputs": [],
   "source": [
    "gmaps = googlemaps.Client(key='API_KEY')"
   ]
  },
  {
   "cell_type": "code",
   "execution_count": 28,
   "metadata": {},
   "outputs": [],
   "source": [
    "ta = df.loc[3,['address']].values[0] + ' '+ df.loc[3,['neighborhood']].values[0].split(', ')[-1]"
   ]
  },
  {
   "cell_type": "code",
   "execution_count": 29,
   "metadata": {},
   "outputs": [
    {
     "output_type": "execute_result",
     "data": {
      "text/plain": "'355 South End Avenue, Apt 4J Manhattan'"
     },
     "metadata": {},
     "execution_count": 29
    }
   ],
   "source": [
    "ta"
   ]
  },
  {
   "cell_type": "code",
   "execution_count": 30,
   "metadata": {},
   "outputs": [
    {
     "output_type": "execute_result",
     "data": {
      "text/plain": "str"
     },
     "metadata": {},
     "execution_count": 30
    }
   ],
   "source": [
    "type(ta)"
   ]
  },
  {
   "cell_type": "code",
   "execution_count": 33,
   "metadata": {},
   "outputs": [],
   "source": [
    "geocode_result = gmaps.geocode(ta)"
   ]
  },
  {
   "cell_type": "code",
   "execution_count": 34,
   "metadata": {},
   "outputs": [
    {
     "output_type": "execute_result",
     "data": {
      "text/plain": "[{'address_components': [{'long_name': '4J',\n    'short_name': '4J',\n    'types': ['subpremise']},\n   {'long_name': '355', 'short_name': '355', 'types': ['street_number']},\n   {'long_name': 'South End Avenue',\n    'short_name': 'South End Ave',\n    'types': ['route']},\n   {'long_name': 'Manhattan',\n    'short_name': 'Manhattan',\n    'types': ['political', 'sublocality', 'sublocality_level_1']},\n   {'long_name': 'New York',\n    'short_name': 'New York',\n    'types': ['locality', 'political']},\n   {'long_name': 'New York County',\n    'short_name': 'New York County',\n    'types': ['administrative_area_level_2', 'political']},\n   {'long_name': 'New York',\n    'short_name': 'NY',\n    'types': ['administrative_area_level_1', 'political']},\n   {'long_name': 'United States',\n    'short_name': 'US',\n    'types': ['country', 'political']},\n   {'long_name': '10280', 'short_name': '10280', 'types': ['postal_code']}],\n  'formatted_address': '355 South End Ave #4J, New York, NY 10280, USA',\n  'geometry': {'location': {'lat': 40.7109037, 'lng': -74.01662329999999},\n   'location_type': 'ROOFTOP',\n   'viewport': {'northeast': {'lat': 40.7122526802915,\n     'lng': -74.01527431970848},\n    'southwest': {'lat': 40.7095547197085, 'lng': -74.01797228029149}}},\n  'place_id': 'Ei4zNTUgU291dGggRW5kIEF2ZSAjNEosIE5ldyBZb3JrLCBOWSAxMDI4MCwgVVNBIh4aHAoWChQKEgm1M--QGlrCiRHPztxnTZeHLhICNEo',\n  'types': ['subpremise']}]"
     },
     "metadata": {},
     "execution_count": 34
    }
   ],
   "source": [
    "geocode_result"
   ]
  },
  {
   "cell_type": "code",
   "execution_count": 35,
   "metadata": {},
   "outputs": [
    {
     "output_type": "stream",
     "name": "stdout",
     "text": "10280\n"
    }
   ],
   "source": [
    "for piece in geocode_result[0]['address_components']:\n",
    "    if 'postal_code' in piece['types'] :\n",
    "        print(piece['short_name'])"
   ]
  },
  {
   "cell_type": "code",
   "execution_count": 36,
   "metadata": {},
   "outputs": [
    {
     "output_type": "stream",
     "name": "stdout",
     "text": "10280\n"
    }
   ],
   "source": [
    "for piece in geocode_result[0]['address_components']:\n",
    "    if 'postal_code' in piece['types']:\n",
    "        print(piece['short_name'])"
   ]
  },
  {
   "cell_type": "code",
   "execution_count": 37,
   "metadata": {},
   "outputs": [],
   "source": [
    "import re\n",
    "def get_zip(row):\n",
    "    try:\n",
    "        addy = row['address'] + ' ' + row['neighborhood'].split(', ')[-1]\n",
    "        print(addy)\n",
    "        if re.match('^\\d+\\s\\w', addy):\n",
    "            geocode_result = gmaps.geocode(addy)\n",
    "            for piece in geocode_result[0]['address_components']:\n",
    "                if 'postal_code' in piece['types']:\n",
    "                    return piece['short_name']\n",
    "                else:\n",
    "                    pass\n",
    "        else:\n",
    "            return np.nan\n",
    "    except:\n",
    "        return np.nan"
   ]
  },
  {
   "cell_type": "code",
   "execution_count": 38,
   "metadata": {},
   "outputs": [
    {
     "output_type": "stream",
     "name": "stdout",
     "text": "84th Street Manhattan\nE 14th St. Manhattan\nW 69th St. Upper Manhatt...\n355 South End Avenue, Apt 4J Manhattan\nriver road Manhattan\n215 W 75th St, Apt 16/A Manhattan\n227 East 96th Street Manhattan\n924 Myrtle Ave, Apt 3B Brooklyn\nEast 85th Street M...\nFinancial District Manhattan\nEast 69th St & 2nd Ave Manhattan\nQueens Street Queens\n864 Nostrand Avenue, Apt 2 Brooklyn\n202 E 13th St., Apt 5G Manhattan\n57th St Manhattan\n43 Columbia Pl, Apt 1B Brooklyn\nChurch St. Manhattan\nKent Avenue Brooklyn\nQueens Plaza North Queens\nAshland Place Brooklyn\n208 West 99th Street Upper Manha...\n57th St Manhattan\n43 Columbia Pl, Apt 1B Brooklyn\nChurch St. Manhattan\n145 Attorney St., Apt 1B Manhattan\nKent Avenue Brooklyn\nQueens Plaza North Queens\nAshland Place Brooklyn\nAllen Street Manhattan\n250 Broome Street, Apt 7A18 Downtown...\nEast 6th St Manhattan\nWest 19th Street Manhattan\n90 Thompson St, Apt E4 Manhattan\nBattery Place Manhattan\nWest 60's Upper Manhatt...\n505 W 37th Street, Apt 2209 Manhattan\nW 21st St Manhattan\nE 63rd St. Manhattan\nNorth 9th St Brooklyn\n1 ave and 14 st Manhattan\nE 63rd St. Manhattan\nNorth 9th St Brooklyn\n1 ave and 14 st Manhattan\nE 63rd St. Manhattan\nSteinway Street Queens\n10th Ave. Manhattan\nE 15th St Manhattan\nWest 60's Upper Manhatt...\nHarrison Street Manhattan\nWashington St. Brooklyn\nCpw Upper Manhatt...\nE 17th St. Manhattan\nCenter Blvd Northwestern ...\nGold Street Broo...\nEast 76th Street Manhattan\nEast 2nd Street Downtown Manhatta...\nE 87th St. M...\nEast 2nd Street Downtown Manhatta...\nOrchard Street Manhattan\nKent Avenue Brooklyn\n"
    }
   ],
   "source": [
    "df['zip'] = df.apply(get_zip, axis=1)"
   ]
  },
  {
   "cell_type": "code",
   "execution_count": 39,
   "metadata": {},
   "outputs": [
    {
     "output_type": "execute_result",
     "data": {
      "text/plain": "url             15\naddress         15\nneighborhood    15\nrent            15\nbeds            15\nbaths           15\nzip             15\ndtype: int64"
     },
     "metadata": {},
     "execution_count": 39
    }
   ],
   "source": [
    "df[df['zip'].notnull()].count()"
   ]
  },
  {
   "cell_type": "code",
   "execution_count": 41,
   "metadata": {},
   "outputs": [],
   "source": [
    "df.to_csv('apts_with_zip.csv')"
   ]
  },
  {
   "cell_type": "code",
   "execution_count": 42,
   "metadata": {},
   "outputs": [],
   "source": [
    "zdf = df[df['zip'].notnull()].copy()"
   ]
  },
  {
   "cell_type": "code",
   "execution_count": 45,
   "metadata": {},
   "outputs": [
    {
     "output_type": "execute_result",
     "data": {
      "text/plain": "      zip  avg_rent\n0   10002    6070.5\n1   10018    5980.0\n2   10012    5750.0\n3   10280    5748.0\n4   10023    5600.0\n5   10003    5495.0\n6   10009    4000.0\n7   10025    3493.0\n8   11225    2899.0\n9   11201    2488.0\n10  10128    1995.0\n11  11206    1965.0",
      "text/html": "<div>\n<style scoped>\n    .dataframe tbody tr th:only-of-type {\n        vertical-align: middle;\n    }\n\n    .dataframe tbody tr th {\n        vertical-align: top;\n    }\n\n    .dataframe thead th {\n        text-align: right;\n    }\n</style>\n<table border=\"1\" class=\"dataframe\">\n  <thead>\n    <tr style=\"text-align: right;\">\n      <th></th>\n      <th>zip</th>\n      <th>avg_rent</th>\n    </tr>\n  </thead>\n  <tbody>\n    <tr>\n      <th>0</th>\n      <td>10002</td>\n      <td>6070.5</td>\n    </tr>\n    <tr>\n      <th>1</th>\n      <td>10018</td>\n      <td>5980.0</td>\n    </tr>\n    <tr>\n      <th>2</th>\n      <td>10012</td>\n      <td>5750.0</td>\n    </tr>\n    <tr>\n      <th>3</th>\n      <td>10280</td>\n      <td>5748.0</td>\n    </tr>\n    <tr>\n      <th>4</th>\n      <td>10023</td>\n      <td>5600.0</td>\n    </tr>\n    <tr>\n      <th>5</th>\n      <td>10003</td>\n      <td>5495.0</td>\n    </tr>\n    <tr>\n      <th>6</th>\n      <td>10009</td>\n      <td>4000.0</td>\n    </tr>\n    <tr>\n      <th>7</th>\n      <td>10025</td>\n      <td>3493.0</td>\n    </tr>\n    <tr>\n      <th>8</th>\n      <td>11225</td>\n      <td>2899.0</td>\n    </tr>\n    <tr>\n      <th>9</th>\n      <td>11201</td>\n      <td>2488.0</td>\n    </tr>\n    <tr>\n      <th>10</th>\n      <td>10128</td>\n      <td>1995.0</td>\n    </tr>\n    <tr>\n      <th>11</th>\n      <td>11206</td>\n      <td>1965.0</td>\n    </tr>\n  </tbody>\n</table>\n</div>"
     },
     "metadata": {},
     "execution_count": 45
    }
   ],
   "source": [
    "zdf_mean = zdf.groupby('zip')['rent'].mean().to_frame('avg_rent').sort_values(by='avg_rent', ascending=False).reset_index()\n",
    "zdf_mean"
   ]
  },
  {
   "cell_type": "code",
   "execution_count": 50,
   "metadata": {},
   "outputs": [
    {
     "output_type": "execute_result",
     "data": {
      "text/plain": "                                                  url  \\\n3   https://www.renthop.com/listings/355-south-end...   \n5   https://www.renthop.com/listings/215-w-75th-st...   \n6   https://www.renthop.com/listings/227-east-96th...   \n7   https://www.renthop.com/listings/924-myrtle-av...   \n12  https://www.renthop.com/listings/864-nostrand-...   \n\n                         address  \\\n3   355 South End Avenue, Apt 4J   \n5        215 W 75th St, Apt 16/A   \n6           227 East 96th Street   \n7         924 Myrtle Ave, Apt 3B   \n12    864 Nostrand Avenue, Apt 2   \n\n                                        neighborhood  rent  beds  baths    zip  \n3   Battery Park City, Downtown Manhattan, Manhattan  5748     2    2.0  10280  \n5        Upper West Side, Upper Manhattan, Manhattan  5600     2    1.0  10023  \n6            East Harlem, Upper Manhattan, Manhattan  1995     0    1.0  10128  \n7    Bedford-Stuyvesant, Northern Brooklyn, Brooklyn  1965     0    1.0  11206  \n12         Crown Heights, Central Brooklyn, Brooklyn  2899     3    1.0  11225  ",
      "text/html": "<div>\n<style scoped>\n    .dataframe tbody tr th:only-of-type {\n        vertical-align: middle;\n    }\n\n    .dataframe tbody tr th {\n        vertical-align: top;\n    }\n\n    .dataframe thead th {\n        text-align: right;\n    }\n</style>\n<table border=\"1\" class=\"dataframe\">\n  <thead>\n    <tr style=\"text-align: right;\">\n      <th></th>\n      <th>url</th>\n      <th>address</th>\n      <th>neighborhood</th>\n      <th>rent</th>\n      <th>beds</th>\n      <th>baths</th>\n      <th>zip</th>\n    </tr>\n  </thead>\n  <tbody>\n    <tr>\n      <th>3</th>\n      <td>https://www.renthop.com/listings/355-south-end...</td>\n      <td>355 South End Avenue, Apt 4J</td>\n      <td>Battery Park City, Downtown Manhattan, Manhattan</td>\n      <td>5748</td>\n      <td>2</td>\n      <td>2.0</td>\n      <td>10280</td>\n    </tr>\n    <tr>\n      <th>5</th>\n      <td>https://www.renthop.com/listings/215-w-75th-st...</td>\n      <td>215 W 75th St, Apt 16/A</td>\n      <td>Upper West Side, Upper Manhattan, Manhattan</td>\n      <td>5600</td>\n      <td>2</td>\n      <td>1.0</td>\n      <td>10023</td>\n    </tr>\n    <tr>\n      <th>6</th>\n      <td>https://www.renthop.com/listings/227-east-96th...</td>\n      <td>227 East 96th Street</td>\n      <td>East Harlem, Upper Manhattan, Manhattan</td>\n      <td>1995</td>\n      <td>0</td>\n      <td>1.0</td>\n      <td>10128</td>\n    </tr>\n    <tr>\n      <th>7</th>\n      <td>https://www.renthop.com/listings/924-myrtle-av...</td>\n      <td>924 Myrtle Ave, Apt 3B</td>\n      <td>Bedford-Stuyvesant, Northern Brooklyn, Brooklyn</td>\n      <td>1965</td>\n      <td>0</td>\n      <td>1.0</td>\n      <td>11206</td>\n    </tr>\n    <tr>\n      <th>12</th>\n      <td>https://www.renthop.com/listings/864-nostrand-...</td>\n      <td>864 Nostrand Avenue, Apt 2</td>\n      <td>Crown Heights, Central Brooklyn, Brooklyn</td>\n      <td>2899</td>\n      <td>3</td>\n      <td>1.0</td>\n      <td>11225</td>\n    </tr>\n  </tbody>\n</table>\n</div>"
     },
     "metadata": {},
     "execution_count": 50
    }
   ],
   "source": [
    "zdf.head()"
   ]
  },
  {
   "cell_type": "code",
   "execution_count": 51,
   "metadata": {},
   "outputs": [],
   "source": [
    "import patsy\n",
    "import statsmodels.api as sm"
   ]
  },
  {
   "cell_type": "code",
   "execution_count": 52,
   "metadata": {},
   "outputs": [],
   "source": [
    "f = 'rent ~ zip + beds'\n",
    "y, X = patsy.dmatrices(f, zdf, return_type='dataframe')"
   ]
  },
  {
   "cell_type": "code",
   "execution_count": 53,
   "metadata": {},
   "outputs": [
    {
     "output_type": "execute_result",
     "data": {
      "text/plain": "<class 'statsmodels.iolib.summary.Summary'>\n\"\"\"\n                            OLS Regression Results                            \n==============================================================================\nDep. Variable:                   rent   R-squared:                       1.000\nModel:                            OLS   Adj. R-squared:                  1.000\nMethod:                 Least Squares   F-statistic:                 1.471e+28\nDate:                Wed, 10 Jun 2020   Prob (F-statistic):           6.80e-29\nTime:                        01:20:27   Log-Likelihood:                 363.89\nNo. Observations:                  15   AIC:                            -701.8\nDf Residuals:                       2   BIC:                            -692.6\nDf Model:                          12                                         \nCovariance Type:            nonrobust                                         \n================================================================================\n                   coef    std err          t      P>|t|      [0.025      0.975]\n--------------------------------------------------------------------------------\nIntercept     9895.0000   1.93e-11   5.13e+14      0.000    9895.000    9895.000\nzip[T.10003]  3249.0000   2.73e-11   1.19e+14      0.000    3249.000    3249.000\nzip[T.10009]  9403.0000   4.53e-11   2.08e+14      0.000    9403.000    9403.000\nzip[T.10012]  7328.5000   3.61e-11   2.03e+14      0.000    7328.500    7328.500\nzip[T.10018]  3734.0000   2.73e-11   1.37e+14      0.000    3734.000    3734.000\nzip[T.10023]  3354.0000   2.73e-11   1.23e+14      0.000    3354.000    3354.000\nzip[T.10025]  1247.0000   2.73e-11   4.57e+13      0.000    1247.000    1247.000\nzip[T.10128] -7900.0000   2.73e-11  -2.89e+14      0.000   -7900.000   -7900.000\nzip[T.10280]  3502.0000   2.73e-11   1.28e+14      0.000    3502.000    3502.000\nzip[T.11201] -7407.0000   2.36e-11  -3.13e+14      0.000   -7407.000   -7407.000\nzip[T.11206] -7930.0000   2.73e-11   -2.9e+14      0.000   -7930.000   -7930.000\nzip[T.11225]  4477.5000   3.61e-11   1.24e+14      0.000    4477.500    4477.500\nbeds         -3824.5000   1.36e-11   -2.8e+14      0.000   -3824.500   -3824.500\n==============================================================================\nOmnibus:                        3.088   Durbin-Watson:                   0.837\nProb(Omnibus):                  0.214   Jarque-Bera (JB):                1.635\nSkew:                           0.808   Prob(JB):                        0.441\nKurtosis:                       3.089   Cond. No.                         37.0\n==============================================================================\n\nWarnings:\n[1] Standard Errors assume that the covariance matrix of the errors is correctly specified.\n\"\"\"",
      "text/html": "<table class=\"simpletable\">\n<caption>OLS Regression Results</caption>\n<tr>\n  <th>Dep. Variable:</th>          <td>rent</td>       <th>  R-squared:         </th> <td>   1.000</td> \n</tr>\n<tr>\n  <th>Model:</th>                   <td>OLS</td>       <th>  Adj. R-squared:    </th> <td>   1.000</td> \n</tr>\n<tr>\n  <th>Method:</th>             <td>Least Squares</td>  <th>  F-statistic:       </th> <td>1.471e+28</td>\n</tr>\n<tr>\n  <th>Date:</th>             <td>Wed, 10 Jun 2020</td> <th>  Prob (F-statistic):</th> <td>6.80e-29</td> \n</tr>\n<tr>\n  <th>Time:</th>                 <td>01:20:27</td>     <th>  Log-Likelihood:    </th> <td>  363.89</td> \n</tr>\n<tr>\n  <th>No. Observations:</th>      <td>    15</td>      <th>  AIC:               </th> <td>  -701.8</td> \n</tr>\n<tr>\n  <th>Df Residuals:</th>          <td>     2</td>      <th>  BIC:               </th> <td>  -692.6</td> \n</tr>\n<tr>\n  <th>Df Model:</th>              <td>    12</td>      <th>                     </th>     <td> </td>    \n</tr>\n<tr>\n  <th>Covariance Type:</th>      <td>nonrobust</td>    <th>                     </th>     <td> </td>    \n</tr>\n</table>\n<table class=\"simpletable\">\n<tr>\n        <td></td>          <th>coef</th>     <th>std err</th>      <th>t</th>      <th>P>|t|</th>  <th>[0.025</th>    <th>0.975]</th>  \n</tr>\n<tr>\n  <th>Intercept</th>    <td> 9895.0000</td> <td> 1.93e-11</td> <td> 5.13e+14</td> <td> 0.000</td> <td> 9895.000</td> <td> 9895.000</td>\n</tr>\n<tr>\n  <th>zip[T.10003]</th> <td> 3249.0000</td> <td> 2.73e-11</td> <td> 1.19e+14</td> <td> 0.000</td> <td> 3249.000</td> <td> 3249.000</td>\n</tr>\n<tr>\n  <th>zip[T.10009]</th> <td> 9403.0000</td> <td> 4.53e-11</td> <td> 2.08e+14</td> <td> 0.000</td> <td> 9403.000</td> <td> 9403.000</td>\n</tr>\n<tr>\n  <th>zip[T.10012]</th> <td> 7328.5000</td> <td> 3.61e-11</td> <td> 2.03e+14</td> <td> 0.000</td> <td> 7328.500</td> <td> 7328.500</td>\n</tr>\n<tr>\n  <th>zip[T.10018]</th> <td> 3734.0000</td> <td> 2.73e-11</td> <td> 1.37e+14</td> <td> 0.000</td> <td> 3734.000</td> <td> 3734.000</td>\n</tr>\n<tr>\n  <th>zip[T.10023]</th> <td> 3354.0000</td> <td> 2.73e-11</td> <td> 1.23e+14</td> <td> 0.000</td> <td> 3354.000</td> <td> 3354.000</td>\n</tr>\n<tr>\n  <th>zip[T.10025]</th> <td> 1247.0000</td> <td> 2.73e-11</td> <td> 4.57e+13</td> <td> 0.000</td> <td> 1247.000</td> <td> 1247.000</td>\n</tr>\n<tr>\n  <th>zip[T.10128]</th> <td>-7900.0000</td> <td> 2.73e-11</td> <td>-2.89e+14</td> <td> 0.000</td> <td>-7900.000</td> <td>-7900.000</td>\n</tr>\n<tr>\n  <th>zip[T.10280]</th> <td> 3502.0000</td> <td> 2.73e-11</td> <td> 1.28e+14</td> <td> 0.000</td> <td> 3502.000</td> <td> 3502.000</td>\n</tr>\n<tr>\n  <th>zip[T.11201]</th> <td>-7407.0000</td> <td> 2.36e-11</td> <td>-3.13e+14</td> <td> 0.000</td> <td>-7407.000</td> <td>-7407.000</td>\n</tr>\n<tr>\n  <th>zip[T.11206]</th> <td>-7930.0000</td> <td> 2.73e-11</td> <td> -2.9e+14</td> <td> 0.000</td> <td>-7930.000</td> <td>-7930.000</td>\n</tr>\n<tr>\n  <th>zip[T.11225]</th> <td> 4477.5000</td> <td> 3.61e-11</td> <td> 1.24e+14</td> <td> 0.000</td> <td> 4477.500</td> <td> 4477.500</td>\n</tr>\n<tr>\n  <th>beds</th>         <td>-3824.5000</td> <td> 1.36e-11</td> <td> -2.8e+14</td> <td> 0.000</td> <td>-3824.500</td> <td>-3824.500</td>\n</tr>\n</table>\n<table class=\"simpletable\">\n<tr>\n  <th>Omnibus:</th>       <td> 3.088</td> <th>  Durbin-Watson:     </th> <td>   0.837</td>\n</tr>\n<tr>\n  <th>Prob(Omnibus):</th> <td> 0.214</td> <th>  Jarque-Bera (JB):  </th> <td>   1.635</td>\n</tr>\n<tr>\n  <th>Skew:</th>          <td> 0.808</td> <th>  Prob(JB):          </th> <td>   0.441</td>\n</tr>\n<tr>\n  <th>Kurtosis:</th>      <td> 3.089</td> <th>  Cond. No.          </th> <td>    37.0</td>\n</tr>\n</table><br/><br/>Warnings:<br/>[1] Standard Errors assume that the covariance matrix of the errors is correctly specified."
     },
     "metadata": {},
     "execution_count": 53
    }
   ],
   "source": [
    "results = sm.OLS(y, X).fit()\n",
    "results.summary()"
   ]
  },
  {
   "cell_type": "code",
   "execution_count": 54,
   "metadata": {},
   "outputs": [
    {
     "output_type": "execute_result",
     "data": {
      "text/plain": "      rent\n3   5748.0\n5   5600.0\n6   1995.0\n7   1965.0\n12  2899.0\n13  5495.0\n15  2488.0\n20  3493.0\n22  2488.0\n24  9895.0\n29  2246.0\n32  5750.0\n35  5980.0\n39  4000.0\n42  4000.0",
      "text/html": "<div>\n<style scoped>\n    .dataframe tbody tr th:only-of-type {\n        vertical-align: middle;\n    }\n\n    .dataframe tbody tr th {\n        vertical-align: top;\n    }\n\n    .dataframe thead th {\n        text-align: right;\n    }\n</style>\n<table border=\"1\" class=\"dataframe\">\n  <thead>\n    <tr style=\"text-align: right;\">\n      <th></th>\n      <th>rent</th>\n    </tr>\n  </thead>\n  <tbody>\n    <tr>\n      <th>3</th>\n      <td>5748.0</td>\n    </tr>\n    <tr>\n      <th>5</th>\n      <td>5600.0</td>\n    </tr>\n    <tr>\n      <th>6</th>\n      <td>1995.0</td>\n    </tr>\n    <tr>\n      <th>7</th>\n      <td>1965.0</td>\n    </tr>\n    <tr>\n      <th>12</th>\n      <td>2899.0</td>\n    </tr>\n    <tr>\n      <th>13</th>\n      <td>5495.0</td>\n    </tr>\n    <tr>\n      <th>15</th>\n      <td>2488.0</td>\n    </tr>\n    <tr>\n      <th>20</th>\n      <td>3493.0</td>\n    </tr>\n    <tr>\n      <th>22</th>\n      <td>2488.0</td>\n    </tr>\n    <tr>\n      <th>24</th>\n      <td>9895.0</td>\n    </tr>\n    <tr>\n      <th>29</th>\n      <td>2246.0</td>\n    </tr>\n    <tr>\n      <th>32</th>\n      <td>5750.0</td>\n    </tr>\n    <tr>\n      <th>35</th>\n      <td>5980.0</td>\n    </tr>\n    <tr>\n      <th>39</th>\n      <td>4000.0</td>\n    </tr>\n    <tr>\n      <th>42</th>\n      <td>4000.0</td>\n    </tr>\n  </tbody>\n</table>\n</div>"
     },
     "metadata": {},
     "execution_count": 54
    }
   ],
   "source": [
    "y"
   ]
  },
  {
   "cell_type": "code",
   "execution_count": 55,
   "metadata": {},
   "outputs": [
    {
     "output_type": "execute_result",
     "data": {
      "text/plain": "    Intercept  zip[T.10003]  zip[T.10009]  zip[T.10012]  zip[T.10018]  \\\n3         1.0           0.0           0.0           0.0           0.0   \n5         1.0           0.0           0.0           0.0           0.0   \n6         1.0           0.0           0.0           0.0           0.0   \n7         1.0           0.0           0.0           0.0           0.0   \n12        1.0           0.0           0.0           0.0           0.0   \n13        1.0           1.0           0.0           0.0           0.0   \n15        1.0           0.0           0.0           0.0           0.0   \n20        1.0           0.0           0.0           0.0           0.0   \n22        1.0           0.0           0.0           0.0           0.0   \n24        1.0           0.0           0.0           0.0           0.0   \n29        1.0           0.0           0.0           0.0           0.0   \n32        1.0           0.0           0.0           1.0           0.0   \n35        1.0           0.0           0.0           0.0           1.0   \n39        1.0           0.0           1.0           0.0           0.0   \n42        1.0           0.0           1.0           0.0           0.0   \n\n    zip[T.10023]  zip[T.10025]  zip[T.10128]  zip[T.10280]  zip[T.11201]  \\\n3            0.0           0.0           0.0           1.0           0.0   \n5            1.0           0.0           0.0           0.0           0.0   \n6            0.0           0.0           1.0           0.0           0.0   \n7            0.0           0.0           0.0           0.0           0.0   \n12           0.0           0.0           0.0           0.0           0.0   \n13           0.0           0.0           0.0           0.0           0.0   \n15           0.0           0.0           0.0           0.0           1.0   \n20           0.0           1.0           0.0           0.0           0.0   \n22           0.0           0.0           0.0           0.0           1.0   \n24           0.0           0.0           0.0           0.0           0.0   \n29           0.0           0.0           0.0           0.0           0.0   \n32           0.0           0.0           0.0           0.0           0.0   \n35           0.0           0.0           0.0           0.0           0.0   \n39           0.0           0.0           0.0           0.0           0.0   \n42           0.0           0.0           0.0           0.0           0.0   \n\n    zip[T.11206]  zip[T.11225]  beds  \n3            0.0           0.0   2.0  \n5            0.0           0.0   2.0  \n6            0.0           0.0   0.0  \n7            1.0           0.0   0.0  \n12           0.0           1.0   3.0  \n13           0.0           0.0   2.0  \n15           0.0           0.0   0.0  \n20           0.0           0.0   2.0  \n22           0.0           0.0   0.0  \n24           0.0           0.0   0.0  \n29           0.0           0.0   2.0  \n32           0.0           0.0   3.0  \n35           0.0           0.0   2.0  \n39           0.0           0.0   4.0  \n42           0.0           0.0   4.0  ",
      "text/html": "<div>\n<style scoped>\n    .dataframe tbody tr th:only-of-type {\n        vertical-align: middle;\n    }\n\n    .dataframe tbody tr th {\n        vertical-align: top;\n    }\n\n    .dataframe thead th {\n        text-align: right;\n    }\n</style>\n<table border=\"1\" class=\"dataframe\">\n  <thead>\n    <tr style=\"text-align: right;\">\n      <th></th>\n      <th>Intercept</th>\n      <th>zip[T.10003]</th>\n      <th>zip[T.10009]</th>\n      <th>zip[T.10012]</th>\n      <th>zip[T.10018]</th>\n      <th>zip[T.10023]</th>\n      <th>zip[T.10025]</th>\n      <th>zip[T.10128]</th>\n      <th>zip[T.10280]</th>\n      <th>zip[T.11201]</th>\n      <th>zip[T.11206]</th>\n      <th>zip[T.11225]</th>\n      <th>beds</th>\n    </tr>\n  </thead>\n  <tbody>\n    <tr>\n      <th>3</th>\n      <td>1.0</td>\n      <td>0.0</td>\n      <td>0.0</td>\n      <td>0.0</td>\n      <td>0.0</td>\n      <td>0.0</td>\n      <td>0.0</td>\n      <td>0.0</td>\n      <td>1.0</td>\n      <td>0.0</td>\n      <td>0.0</td>\n      <td>0.0</td>\n      <td>2.0</td>\n    </tr>\n    <tr>\n      <th>5</th>\n      <td>1.0</td>\n      <td>0.0</td>\n      <td>0.0</td>\n      <td>0.0</td>\n      <td>0.0</td>\n      <td>1.0</td>\n      <td>0.0</td>\n      <td>0.0</td>\n      <td>0.0</td>\n      <td>0.0</td>\n      <td>0.0</td>\n      <td>0.0</td>\n      <td>2.0</td>\n    </tr>\n    <tr>\n      <th>6</th>\n      <td>1.0</td>\n      <td>0.0</td>\n      <td>0.0</td>\n      <td>0.0</td>\n      <td>0.0</td>\n      <td>0.0</td>\n      <td>0.0</td>\n      <td>1.0</td>\n      <td>0.0</td>\n      <td>0.0</td>\n      <td>0.0</td>\n      <td>0.0</td>\n      <td>0.0</td>\n    </tr>\n    <tr>\n      <th>7</th>\n      <td>1.0</td>\n      <td>0.0</td>\n      <td>0.0</td>\n      <td>0.0</td>\n      <td>0.0</td>\n      <td>0.0</td>\n      <td>0.0</td>\n      <td>0.0</td>\n      <td>0.0</td>\n      <td>0.0</td>\n      <td>1.0</td>\n      <td>0.0</td>\n      <td>0.0</td>\n    </tr>\n    <tr>\n      <th>12</th>\n      <td>1.0</td>\n      <td>0.0</td>\n      <td>0.0</td>\n      <td>0.0</td>\n      <td>0.0</td>\n      <td>0.0</td>\n      <td>0.0</td>\n      <td>0.0</td>\n      <td>0.0</td>\n      <td>0.0</td>\n      <td>0.0</td>\n      <td>1.0</td>\n      <td>3.0</td>\n    </tr>\n    <tr>\n      <th>13</th>\n      <td>1.0</td>\n      <td>1.0</td>\n      <td>0.0</td>\n      <td>0.0</td>\n      <td>0.0</td>\n      <td>0.0</td>\n      <td>0.0</td>\n      <td>0.0</td>\n      <td>0.0</td>\n      <td>0.0</td>\n      <td>0.0</td>\n      <td>0.0</td>\n      <td>2.0</td>\n    </tr>\n    <tr>\n      <th>15</th>\n      <td>1.0</td>\n      <td>0.0</td>\n      <td>0.0</td>\n      <td>0.0</td>\n      <td>0.0</td>\n      <td>0.0</td>\n      <td>0.0</td>\n      <td>0.0</td>\n      <td>0.0</td>\n      <td>1.0</td>\n      <td>0.0</td>\n      <td>0.0</td>\n      <td>0.0</td>\n    </tr>\n    <tr>\n      <th>20</th>\n      <td>1.0</td>\n      <td>0.0</td>\n      <td>0.0</td>\n      <td>0.0</td>\n      <td>0.0</td>\n      <td>0.0</td>\n      <td>1.0</td>\n      <td>0.0</td>\n      <td>0.0</td>\n      <td>0.0</td>\n      <td>0.0</td>\n      <td>0.0</td>\n      <td>2.0</td>\n    </tr>\n    <tr>\n      <th>22</th>\n      <td>1.0</td>\n      <td>0.0</td>\n      <td>0.0</td>\n      <td>0.0</td>\n      <td>0.0</td>\n      <td>0.0</td>\n      <td>0.0</td>\n      <td>0.0</td>\n      <td>0.0</td>\n      <td>1.0</td>\n      <td>0.0</td>\n      <td>0.0</td>\n      <td>0.0</td>\n    </tr>\n    <tr>\n      <th>24</th>\n      <td>1.0</td>\n      <td>0.0</td>\n      <td>0.0</td>\n      <td>0.0</td>\n      <td>0.0</td>\n      <td>0.0</td>\n      <td>0.0</td>\n      <td>0.0</td>\n      <td>0.0</td>\n      <td>0.0</td>\n      <td>0.0</td>\n      <td>0.0</td>\n      <td>0.0</td>\n    </tr>\n    <tr>\n      <th>29</th>\n      <td>1.0</td>\n      <td>0.0</td>\n      <td>0.0</td>\n      <td>0.0</td>\n      <td>0.0</td>\n      <td>0.0</td>\n      <td>0.0</td>\n      <td>0.0</td>\n      <td>0.0</td>\n      <td>0.0</td>\n      <td>0.0</td>\n      <td>0.0</td>\n      <td>2.0</td>\n    </tr>\n    <tr>\n      <th>32</th>\n      <td>1.0</td>\n      <td>0.0</td>\n      <td>0.0</td>\n      <td>1.0</td>\n      <td>0.0</td>\n      <td>0.0</td>\n      <td>0.0</td>\n      <td>0.0</td>\n      <td>0.0</td>\n      <td>0.0</td>\n      <td>0.0</td>\n      <td>0.0</td>\n      <td>3.0</td>\n    </tr>\n    <tr>\n      <th>35</th>\n      <td>1.0</td>\n      <td>0.0</td>\n      <td>0.0</td>\n      <td>0.0</td>\n      <td>1.0</td>\n      <td>0.0</td>\n      <td>0.0</td>\n      <td>0.0</td>\n      <td>0.0</td>\n      <td>0.0</td>\n      <td>0.0</td>\n      <td>0.0</td>\n      <td>2.0</td>\n    </tr>\n    <tr>\n      <th>39</th>\n      <td>1.0</td>\n      <td>0.0</td>\n      <td>1.0</td>\n      <td>0.0</td>\n      <td>0.0</td>\n      <td>0.0</td>\n      <td>0.0</td>\n      <td>0.0</td>\n      <td>0.0</td>\n      <td>0.0</td>\n      <td>0.0</td>\n      <td>0.0</td>\n      <td>4.0</td>\n    </tr>\n    <tr>\n      <th>42</th>\n      <td>1.0</td>\n      <td>0.0</td>\n      <td>1.0</td>\n      <td>0.0</td>\n      <td>0.0</td>\n      <td>0.0</td>\n      <td>0.0</td>\n      <td>0.0</td>\n      <td>0.0</td>\n      <td>0.0</td>\n      <td>0.0</td>\n      <td>0.0</td>\n      <td>4.0</td>\n    </tr>\n  </tbody>\n</table>\n</div>"
     },
     "metadata": {},
     "execution_count": 55
    }
   ],
   "source": [
    "X"
   ]
  },
  {
   "cell_type": "code",
   "execution_count": 56,
   "metadata": {},
   "outputs": [
    {
     "output_type": "execute_result",
     "data": {
      "text/plain": "                                                  url  \\\n24  https://www.renthop.com/listings/145-attorney-...   \n29  https://www.renthop.com/listings/250-broome-st...   \n13  https://www.renthop.com/listings/202-e-13th-st...   \n39  https://www.renthop.com/listings/1-ave-and-14-...   \n42  https://www.renthop.com/listings/1-ave-and-14-...   \n32  https://www.renthop.com/listings/90-thompson-s...   \n35  https://www.renthop.com/listings/505-w-37th-st...   \n5   https://www.renthop.com/listings/215-w-75th-st...   \n20  https://www.renthop.com/listings/208-west-99th...   \n6   https://www.renthop.com/listings/227-east-96th...   \n3   https://www.renthop.com/listings/355-south-end...   \n15  https://www.renthop.com/listings/43-columbia-p...   \n22  https://www.renthop.com/listings/43-columbia-p...   \n7   https://www.renthop.com/listings/924-myrtle-av...   \n12  https://www.renthop.com/listings/864-nostrand-...   \n\n                         address  \\\n24      145 Attorney St., Apt 1B   \n29   250 Broome Street, Apt 7A18   \n13        202 E 13th St., Apt 5G   \n39               1 ave and 14 st   \n42               1 ave and 14 st   \n32        90 Thompson St, Apt E4   \n35   505 W 37th Street, Apt 2209   \n5        215 W 75th St, Apt 16/A   \n20          208 West 99th Street   \n6           227 East 96th Street   \n3   355 South End Avenue, Apt 4J   \n15        43 Columbia Pl, Apt 1B   \n22        43 Columbia Pl, Apt 1B   \n7         924 Myrtle Ave, Apt 3B   \n12    864 Nostrand Avenue, Apt 2   \n\n                                         neighborhood  rent  beds  baths  \\\n24     Lower East Side, Downtown Manhattan, Manhattan  9895     0    2.5   \n29  Cooperative Village, Lower East Side, Downtown...  2246     2    1.0   \n13        East Village, Downtown Manhattan, Manhattan  5495     2    2.0   \n39        East Village, Downtown Manhattan, Manhattan  4000     4    1.0   \n42        East Village, Downtown Manhattan, Manhattan  4000     4    1.0   \n32                SoHo, Downtown Manhattan, Manhattan  5750     3    1.0   \n35       Hell's Kitchen, Midtown Manhattan, Manhattan  5980     2    2.0   \n5         Upper West Side, Upper Manhattan, Manhattan  5600     2    1.0   \n20  Manhattan Valley, Upper West Side, Upper Manha...  3493     2    1.0   \n6             East Harlem, Upper Manhattan, Manhattan  1995     0    1.0   \n3    Battery Park City, Downtown Manhattan, Manhattan  5748     2    2.0   \n15  Brooklyn Heights, Northwestern Brooklyn, Brooklyn  2488     0    1.0   \n22  Brooklyn Heights, Northwestern Brooklyn, Brooklyn  2488     0    1.0   \n7     Bedford-Stuyvesant, Northern Brooklyn, Brooklyn  1965     0    1.0   \n12          Crown Heights, Central Brooklyn, Brooklyn  2899     3    1.0   \n\n      zip  \n24  10002  \n29  10002  \n13  10003  \n39  10009  \n42  10009  \n32  10012  \n35  10018  \n5   10023  \n20  10025  \n6   10128  \n3   10280  \n15  11201  \n22  11201  \n7   11206  \n12  11225  ",
      "text/html": "<div>\n<style scoped>\n    .dataframe tbody tr th:only-of-type {\n        vertical-align: middle;\n    }\n\n    .dataframe tbody tr th {\n        vertical-align: top;\n    }\n\n    .dataframe thead th {\n        text-align: right;\n    }\n</style>\n<table border=\"1\" class=\"dataframe\">\n  <thead>\n    <tr style=\"text-align: right;\">\n      <th></th>\n      <th>url</th>\n      <th>address</th>\n      <th>neighborhood</th>\n      <th>rent</th>\n      <th>beds</th>\n      <th>baths</th>\n      <th>zip</th>\n    </tr>\n  </thead>\n  <tbody>\n    <tr>\n      <th>24</th>\n      <td>https://www.renthop.com/listings/145-attorney-...</td>\n      <td>145 Attorney St., Apt 1B</td>\n      <td>Lower East Side, Downtown Manhattan, Manhattan</td>\n      <td>9895</td>\n      <td>0</td>\n      <td>2.5</td>\n      <td>10002</td>\n    </tr>\n    <tr>\n      <th>29</th>\n      <td>https://www.renthop.com/listings/250-broome-st...</td>\n      <td>250 Broome Street, Apt 7A18</td>\n      <td>Cooperative Village, Lower East Side, Downtown...</td>\n      <td>2246</td>\n      <td>2</td>\n      <td>1.0</td>\n      <td>10002</td>\n    </tr>\n    <tr>\n      <th>13</th>\n      <td>https://www.renthop.com/listings/202-e-13th-st...</td>\n      <td>202 E 13th St., Apt 5G</td>\n      <td>East Village, Downtown Manhattan, Manhattan</td>\n      <td>5495</td>\n      <td>2</td>\n      <td>2.0</td>\n      <td>10003</td>\n    </tr>\n    <tr>\n      <th>39</th>\n      <td>https://www.renthop.com/listings/1-ave-and-14-...</td>\n      <td>1 ave and 14 st</td>\n      <td>East Village, Downtown Manhattan, Manhattan</td>\n      <td>4000</td>\n      <td>4</td>\n      <td>1.0</td>\n      <td>10009</td>\n    </tr>\n    <tr>\n      <th>42</th>\n      <td>https://www.renthop.com/listings/1-ave-and-14-...</td>\n      <td>1 ave and 14 st</td>\n      <td>East Village, Downtown Manhattan, Manhattan</td>\n      <td>4000</td>\n      <td>4</td>\n      <td>1.0</td>\n      <td>10009</td>\n    </tr>\n    <tr>\n      <th>32</th>\n      <td>https://www.renthop.com/listings/90-thompson-s...</td>\n      <td>90 Thompson St, Apt E4</td>\n      <td>SoHo, Downtown Manhattan, Manhattan</td>\n      <td>5750</td>\n      <td>3</td>\n      <td>1.0</td>\n      <td>10012</td>\n    </tr>\n    <tr>\n      <th>35</th>\n      <td>https://www.renthop.com/listings/505-w-37th-st...</td>\n      <td>505 W 37th Street, Apt 2209</td>\n      <td>Hell's Kitchen, Midtown Manhattan, Manhattan</td>\n      <td>5980</td>\n      <td>2</td>\n      <td>2.0</td>\n      <td>10018</td>\n    </tr>\n    <tr>\n      <th>5</th>\n      <td>https://www.renthop.com/listings/215-w-75th-st...</td>\n      <td>215 W 75th St, Apt 16/A</td>\n      <td>Upper West Side, Upper Manhattan, Manhattan</td>\n      <td>5600</td>\n      <td>2</td>\n      <td>1.0</td>\n      <td>10023</td>\n    </tr>\n    <tr>\n      <th>20</th>\n      <td>https://www.renthop.com/listings/208-west-99th...</td>\n      <td>208 West 99th Street</td>\n      <td>Manhattan Valley, Upper West Side, Upper Manha...</td>\n      <td>3493</td>\n      <td>2</td>\n      <td>1.0</td>\n      <td>10025</td>\n    </tr>\n    <tr>\n      <th>6</th>\n      <td>https://www.renthop.com/listings/227-east-96th...</td>\n      <td>227 East 96th Street</td>\n      <td>East Harlem, Upper Manhattan, Manhattan</td>\n      <td>1995</td>\n      <td>0</td>\n      <td>1.0</td>\n      <td>10128</td>\n    </tr>\n    <tr>\n      <th>3</th>\n      <td>https://www.renthop.com/listings/355-south-end...</td>\n      <td>355 South End Avenue, Apt 4J</td>\n      <td>Battery Park City, Downtown Manhattan, Manhattan</td>\n      <td>5748</td>\n      <td>2</td>\n      <td>2.0</td>\n      <td>10280</td>\n    </tr>\n    <tr>\n      <th>15</th>\n      <td>https://www.renthop.com/listings/43-columbia-p...</td>\n      <td>43 Columbia Pl, Apt 1B</td>\n      <td>Brooklyn Heights, Northwestern Brooklyn, Brooklyn</td>\n      <td>2488</td>\n      <td>0</td>\n      <td>1.0</td>\n      <td>11201</td>\n    </tr>\n    <tr>\n      <th>22</th>\n      <td>https://www.renthop.com/listings/43-columbia-p...</td>\n      <td>43 Columbia Pl, Apt 1B</td>\n      <td>Brooklyn Heights, Northwestern Brooklyn, Brooklyn</td>\n      <td>2488</td>\n      <td>0</td>\n      <td>1.0</td>\n      <td>11201</td>\n    </tr>\n    <tr>\n      <th>7</th>\n      <td>https://www.renthop.com/listings/924-myrtle-av...</td>\n      <td>924 Myrtle Ave, Apt 3B</td>\n      <td>Bedford-Stuyvesant, Northern Brooklyn, Brooklyn</td>\n      <td>1965</td>\n      <td>0</td>\n      <td>1.0</td>\n      <td>11206</td>\n    </tr>\n    <tr>\n      <th>12</th>\n      <td>https://www.renthop.com/listings/864-nostrand-...</td>\n      <td>864 Nostrand Avenue, Apt 2</td>\n      <td>Crown Heights, Central Brooklyn, Brooklyn</td>\n      <td>2899</td>\n      <td>3</td>\n      <td>1.0</td>\n      <td>11225</td>\n    </tr>\n  </tbody>\n</table>\n</div>"
     },
     "metadata": {},
     "execution_count": 56
    }
   ],
   "source": [
    "zdf.sort_values(by='zip')"
   ]
  },
  {
   "cell_type": "code",
   "execution_count": 57,
   "metadata": {},
   "outputs": [
    {
     "output_type": "execute_result",
     "data": {
      "text/plain": "    Intercept  zip[T.10003]  zip[T.10009]  zip[T.10012]  zip[T.10018]  \\\n3         1.0           0.0           0.0           0.0           0.0   \n5         1.0           0.0           0.0           0.0           0.0   \n6         1.0           0.0           0.0           0.0           0.0   \n7         1.0           0.0           0.0           0.0           0.0   \n12        1.0           0.0           0.0           0.0           0.0   \n\n    zip[T.10023]  zip[T.10025]  zip[T.10128]  zip[T.10280]  zip[T.11201]  \\\n3            0.0           0.0           0.0           1.0           0.0   \n5            1.0           0.0           0.0           0.0           0.0   \n6            0.0           0.0           1.0           0.0           0.0   \n7            0.0           0.0           0.0           0.0           0.0   \n12           0.0           0.0           0.0           0.0           0.0   \n\n    zip[T.11206]  zip[T.11225]  beds  \n3            0.0           0.0   2.0  \n5            0.0           0.0   2.0  \n6            0.0           0.0   0.0  \n7            1.0           0.0   0.0  \n12           0.0           1.0   3.0  ",
      "text/html": "<div>\n<style scoped>\n    .dataframe tbody tr th:only-of-type {\n        vertical-align: middle;\n    }\n\n    .dataframe tbody tr th {\n        vertical-align: top;\n    }\n\n    .dataframe thead th {\n        text-align: right;\n    }\n</style>\n<table border=\"1\" class=\"dataframe\">\n  <thead>\n    <tr style=\"text-align: right;\">\n      <th></th>\n      <th>Intercept</th>\n      <th>zip[T.10003]</th>\n      <th>zip[T.10009]</th>\n      <th>zip[T.10012]</th>\n      <th>zip[T.10018]</th>\n      <th>zip[T.10023]</th>\n      <th>zip[T.10025]</th>\n      <th>zip[T.10128]</th>\n      <th>zip[T.10280]</th>\n      <th>zip[T.11201]</th>\n      <th>zip[T.11206]</th>\n      <th>zip[T.11225]</th>\n      <th>beds</th>\n    </tr>\n  </thead>\n  <tbody>\n    <tr>\n      <th>3</th>\n      <td>1.0</td>\n      <td>0.0</td>\n      <td>0.0</td>\n      <td>0.0</td>\n      <td>0.0</td>\n      <td>0.0</td>\n      <td>0.0</td>\n      <td>0.0</td>\n      <td>1.0</td>\n      <td>0.0</td>\n      <td>0.0</td>\n      <td>0.0</td>\n      <td>2.0</td>\n    </tr>\n    <tr>\n      <th>5</th>\n      <td>1.0</td>\n      <td>0.0</td>\n      <td>0.0</td>\n      <td>0.0</td>\n      <td>0.0</td>\n      <td>1.0</td>\n      <td>0.0</td>\n      <td>0.0</td>\n      <td>0.0</td>\n      <td>0.0</td>\n      <td>0.0</td>\n      <td>0.0</td>\n      <td>2.0</td>\n    </tr>\n    <tr>\n      <th>6</th>\n      <td>1.0</td>\n      <td>0.0</td>\n      <td>0.0</td>\n      <td>0.0</td>\n      <td>0.0</td>\n      <td>0.0</td>\n      <td>0.0</td>\n      <td>1.0</td>\n      <td>0.0</td>\n      <td>0.0</td>\n      <td>0.0</td>\n      <td>0.0</td>\n      <td>0.0</td>\n    </tr>\n    <tr>\n      <th>7</th>\n      <td>1.0</td>\n      <td>0.0</td>\n      <td>0.0</td>\n      <td>0.0</td>\n      <td>0.0</td>\n      <td>0.0</td>\n      <td>0.0</td>\n      <td>0.0</td>\n      <td>0.0</td>\n      <td>0.0</td>\n      <td>1.0</td>\n      <td>0.0</td>\n      <td>0.0</td>\n    </tr>\n    <tr>\n      <th>12</th>\n      <td>1.0</td>\n      <td>0.0</td>\n      <td>0.0</td>\n      <td>0.0</td>\n      <td>0.0</td>\n      <td>0.0</td>\n      <td>0.0</td>\n      <td>0.0</td>\n      <td>0.0</td>\n      <td>0.0</td>\n      <td>0.0</td>\n      <td>1.0</td>\n      <td>3.0</td>\n    </tr>\n  </tbody>\n</table>\n</div>"
     },
     "metadata": {},
     "execution_count": 57
    }
   ],
   "source": [
    "X.head()"
   ]
  },
  {
   "cell_type": "code",
   "execution_count": 98,
   "metadata": {},
   "outputs": [
    {
     "output_type": "execute_result",
     "data": {
      "text/plain": "              value\nIntercept       0.0\nzip[T.10003]    0.0\nzip[T.10009]    0.0\nzip[T.10012]    0.0\nzip[T.10018]    0.0\nzip[T.10023]    0.0\nzip[T.10025]    0.0\nzip[T.10128]    0.0\nzip[T.10280]    0.0\nzip[T.11201]    0.0\nzip[T.11206]    0.0\nzip[T.11225]    0.0\nbeds            0.0",
      "text/html": "<div>\n<style scoped>\n    .dataframe tbody tr th:only-of-type {\n        vertical-align: middle;\n    }\n\n    .dataframe tbody tr th {\n        vertical-align: top;\n    }\n\n    .dataframe thead th {\n        text-align: right;\n    }\n</style>\n<table border=\"1\" class=\"dataframe\">\n  <thead>\n    <tr style=\"text-align: right;\">\n      <th></th>\n      <th>value</th>\n    </tr>\n  </thead>\n  <tbody>\n    <tr>\n      <th>Intercept</th>\n      <td>0.0</td>\n    </tr>\n    <tr>\n      <th>zip[T.10003]</th>\n      <td>0.0</td>\n    </tr>\n    <tr>\n      <th>zip[T.10009]</th>\n      <td>0.0</td>\n    </tr>\n    <tr>\n      <th>zip[T.10012]</th>\n      <td>0.0</td>\n    </tr>\n    <tr>\n      <th>zip[T.10018]</th>\n      <td>0.0</td>\n    </tr>\n    <tr>\n      <th>zip[T.10023]</th>\n      <td>0.0</td>\n    </tr>\n    <tr>\n      <th>zip[T.10025]</th>\n      <td>0.0</td>\n    </tr>\n    <tr>\n      <th>zip[T.10128]</th>\n      <td>0.0</td>\n    </tr>\n    <tr>\n      <th>zip[T.10280]</th>\n      <td>0.0</td>\n    </tr>\n    <tr>\n      <th>zip[T.11201]</th>\n      <td>0.0</td>\n    </tr>\n    <tr>\n      <th>zip[T.11206]</th>\n      <td>0.0</td>\n    </tr>\n    <tr>\n      <th>zip[T.11225]</th>\n      <td>0.0</td>\n    </tr>\n    <tr>\n      <th>beds</th>\n      <td>0.0</td>\n    </tr>\n  </tbody>\n</table>\n</div>"
     },
     "metadata": {},
     "execution_count": 98
    }
   ],
   "source": [
    "to_pred_idx = X.iloc[0].index\n",
    "to_pred_zeros = np.zeros(len(to_pred_idx))\n",
    "tpdf = pd.DataFrame(to_pred_zeros, index=to_pred_idx, columns=['value'])\n",
    "\n",
    "tpdf"
   ]
  },
  {
   "cell_type": "code",
   "execution_count": 99,
   "metadata": {},
   "outputs": [],
   "source": [
    "tpdf.loc['Intercept'] = 1\n",
    "tpdf.loc['beds'] = 1\n",
    "tpdf.loc['zip[T.10009]'] = 1"
   ]
  },
  {
   "cell_type": "code",
   "execution_count": 100,
   "metadata": {},
   "outputs": [
    {
     "output_type": "execute_result",
     "data": {
      "text/plain": "              value\nIntercept       1.0\nzip[T.10003]    0.0\nzip[T.10009]    1.0\nzip[T.10012]    0.0\nzip[T.10018]    0.0\nzip[T.10023]    0.0\nzip[T.10025]    0.0\nzip[T.10128]    0.0\nzip[T.10280]    0.0\nzip[T.11201]    0.0\nzip[T.11206]    0.0\nzip[T.11225]    0.0\nbeds            1.0",
      "text/html": "<div>\n<style scoped>\n    .dataframe tbody tr th:only-of-type {\n        vertical-align: middle;\n    }\n\n    .dataframe tbody tr th {\n        vertical-align: top;\n    }\n\n    .dataframe thead th {\n        text-align: right;\n    }\n</style>\n<table border=\"1\" class=\"dataframe\">\n  <thead>\n    <tr style=\"text-align: right;\">\n      <th></th>\n      <th>value</th>\n    </tr>\n  </thead>\n  <tbody>\n    <tr>\n      <th>Intercept</th>\n      <td>1.0</td>\n    </tr>\n    <tr>\n      <th>zip[T.10003]</th>\n      <td>0.0</td>\n    </tr>\n    <tr>\n      <th>zip[T.10009]</th>\n      <td>1.0</td>\n    </tr>\n    <tr>\n      <th>zip[T.10012]</th>\n      <td>0.0</td>\n    </tr>\n    <tr>\n      <th>zip[T.10018]</th>\n      <td>0.0</td>\n    </tr>\n    <tr>\n      <th>zip[T.10023]</th>\n      <td>0.0</td>\n    </tr>\n    <tr>\n      <th>zip[T.10025]</th>\n      <td>0.0</td>\n    </tr>\n    <tr>\n      <th>zip[T.10128]</th>\n      <td>0.0</td>\n    </tr>\n    <tr>\n      <th>zip[T.10280]</th>\n      <td>0.0</td>\n    </tr>\n    <tr>\n      <th>zip[T.11201]</th>\n      <td>0.0</td>\n    </tr>\n    <tr>\n      <th>zip[T.11206]</th>\n      <td>0.0</td>\n    </tr>\n    <tr>\n      <th>zip[T.11225]</th>\n      <td>0.0</td>\n    </tr>\n    <tr>\n      <th>beds</th>\n      <td>1.0</td>\n    </tr>\n  </tbody>\n</table>\n</div>"
     },
     "metadata": {},
     "execution_count": 100
    }
   ],
   "source": [
    "tpdf"
   ]
  },
  {
   "cell_type": "code",
   "execution_count": 101,
   "metadata": {},
   "outputs": [
    {
     "output_type": "execute_result",
     "data": {
      "text/plain": "value    15473.5\ndtype: float64"
     },
     "metadata": {},
     "execution_count": 101
    }
   ],
   "source": [
    "results.predict(tpdf['value'].to_frame().T)"
   ]
  },
  {
   "cell_type": "code",
   "execution_count": 102,
   "metadata": {},
   "outputs": [
    {
     "output_type": "execute_result",
     "data": {
      "text/plain": "              value\nIntercept         0\nzip[T.10003]      0\nzip[T.10009]      0\nzip[T.10012]      0\nzip[T.10018]      0\nzip[T.10023]      0\nzip[T.10025]      0\nzip[T.10128]      0\nzip[T.10280]      0\nzip[T.11201]      0\nzip[T.11206]      0\nzip[T.11225]      0\nbeds              0",
      "text/html": "<div>\n<style scoped>\n    .dataframe tbody tr th:only-of-type {\n        vertical-align: middle;\n    }\n\n    .dataframe tbody tr th {\n        vertical-align: top;\n    }\n\n    .dataframe thead th {\n        text-align: right;\n    }\n</style>\n<table border=\"1\" class=\"dataframe\">\n  <thead>\n    <tr style=\"text-align: right;\">\n      <th></th>\n      <th>value</th>\n    </tr>\n  </thead>\n  <tbody>\n    <tr>\n      <th>Intercept</th>\n      <td>0</td>\n    </tr>\n    <tr>\n      <th>zip[T.10003]</th>\n      <td>0</td>\n    </tr>\n    <tr>\n      <th>zip[T.10009]</th>\n      <td>0</td>\n    </tr>\n    <tr>\n      <th>zip[T.10012]</th>\n      <td>0</td>\n    </tr>\n    <tr>\n      <th>zip[T.10018]</th>\n      <td>0</td>\n    </tr>\n    <tr>\n      <th>zip[T.10023]</th>\n      <td>0</td>\n    </tr>\n    <tr>\n      <th>zip[T.10025]</th>\n      <td>0</td>\n    </tr>\n    <tr>\n      <th>zip[T.10128]</th>\n      <td>0</td>\n    </tr>\n    <tr>\n      <th>zip[T.10280]</th>\n      <td>0</td>\n    </tr>\n    <tr>\n      <th>zip[T.11201]</th>\n      <td>0</td>\n    </tr>\n    <tr>\n      <th>zip[T.11206]</th>\n      <td>0</td>\n    </tr>\n    <tr>\n      <th>zip[T.11225]</th>\n      <td>0</td>\n    </tr>\n    <tr>\n      <th>beds</th>\n      <td>0</td>\n    </tr>\n  </tbody>\n</table>\n</div>"
     },
     "metadata": {},
     "execution_count": 102
    }
   ],
   "source": [
    "tpdf['value'] = 0\n",
    "\n",
    "tpdf"
   ]
  },
  {
   "cell_type": "code",
   "execution_count": 103,
   "metadata": {},
   "outputs": [],
   "source": [
    "tpdf.loc['Intercept'] = 1\n",
    "tpdf.loc['beds'] = 2\n",
    "tpdf.loc['zip[T.10009]'] = 1"
   ]
  },
  {
   "cell_type": "code",
   "execution_count": 64,
   "metadata": {},
   "outputs": [
    {
     "output_type": "execute_result",
     "data": {
      "text/plain": "              value\nIntercept         1\nzip[T.10003]      0\nzip[T.10009]      1\nzip[T.10012]      0\nzip[T.10018]      0\nzip[T.10023]      0\nzip[T.10025]      0\nzip[T.10128]      0\nzip[T.10280]      0\nzip[T.11201]      0\nzip[T.11206]      0\nzip[T.11225]      0\nbeds              2",
      "text/html": "<div>\n<style scoped>\n    .dataframe tbody tr th:only-of-type {\n        vertical-align: middle;\n    }\n\n    .dataframe tbody tr th {\n        vertical-align: top;\n    }\n\n    .dataframe thead th {\n        text-align: right;\n    }\n</style>\n<table border=\"1\" class=\"dataframe\">\n  <thead>\n    <tr style=\"text-align: right;\">\n      <th></th>\n      <th>value</th>\n    </tr>\n  </thead>\n  <tbody>\n    <tr>\n      <th>Intercept</th>\n      <td>1</td>\n    </tr>\n    <tr>\n      <th>zip[T.10003]</th>\n      <td>0</td>\n    </tr>\n    <tr>\n      <th>zip[T.10009]</th>\n      <td>1</td>\n    </tr>\n    <tr>\n      <th>zip[T.10012]</th>\n      <td>0</td>\n    </tr>\n    <tr>\n      <th>zip[T.10018]</th>\n      <td>0</td>\n    </tr>\n    <tr>\n      <th>zip[T.10023]</th>\n      <td>0</td>\n    </tr>\n    <tr>\n      <th>zip[T.10025]</th>\n      <td>0</td>\n    </tr>\n    <tr>\n      <th>zip[T.10128]</th>\n      <td>0</td>\n    </tr>\n    <tr>\n      <th>zip[T.10280]</th>\n      <td>0</td>\n    </tr>\n    <tr>\n      <th>zip[T.11201]</th>\n      <td>0</td>\n    </tr>\n    <tr>\n      <th>zip[T.11206]</th>\n      <td>0</td>\n    </tr>\n    <tr>\n      <th>zip[T.11225]</th>\n      <td>0</td>\n    </tr>\n    <tr>\n      <th>beds</th>\n      <td>2</td>\n    </tr>\n  </tbody>\n</table>\n</div>"
     },
     "metadata": {},
     "execution_count": 64
    }
   ],
   "source": [
    "tpdf"
   ]
  },
  {
   "cell_type": "code",
   "execution_count": 104,
   "metadata": {},
   "outputs": [
    {
     "output_type": "execute_result",
     "data": {
      "text/plain": "value    11649.0\ndtype: float64"
     },
     "metadata": {},
     "execution_count": 104
    }
   ],
   "source": [
    "results.predict(tpdf['value'].to_frame().T)"
   ]
  },
  {
   "cell_type": "code",
   "execution_count": 105,
   "metadata": {},
   "outputs": [
    {
     "output_type": "execute_result",
     "data": {
      "text/plain": "              value\nIntercept         1\nzip[T.10003]      0\nzip[T.10009]      1\nzip[T.10012]      0\nzip[T.10018]      0\nzip[T.10023]      0\nzip[T.10025]      0\nzip[T.10128]      0\nzip[T.10280]      0\nzip[T.11201]      0\nzip[T.11206]      0\nzip[T.11225]      0\nbeds              2",
      "text/html": "<div>\n<style scoped>\n    .dataframe tbody tr th:only-of-type {\n        vertical-align: middle;\n    }\n\n    .dataframe tbody tr th {\n        vertical-align: top;\n    }\n\n    .dataframe thead th {\n        text-align: right;\n    }\n</style>\n<table border=\"1\" class=\"dataframe\">\n  <thead>\n    <tr style=\"text-align: right;\">\n      <th></th>\n      <th>value</th>\n    </tr>\n  </thead>\n  <tbody>\n    <tr>\n      <th>Intercept</th>\n      <td>1</td>\n    </tr>\n    <tr>\n      <th>zip[T.10003]</th>\n      <td>0</td>\n    </tr>\n    <tr>\n      <th>zip[T.10009]</th>\n      <td>1</td>\n    </tr>\n    <tr>\n      <th>zip[T.10012]</th>\n      <td>0</td>\n    </tr>\n    <tr>\n      <th>zip[T.10018]</th>\n      <td>0</td>\n    </tr>\n    <tr>\n      <th>zip[T.10023]</th>\n      <td>0</td>\n    </tr>\n    <tr>\n      <th>zip[T.10025]</th>\n      <td>0</td>\n    </tr>\n    <tr>\n      <th>zip[T.10128]</th>\n      <td>0</td>\n    </tr>\n    <tr>\n      <th>zip[T.10280]</th>\n      <td>0</td>\n    </tr>\n    <tr>\n      <th>zip[T.11201]</th>\n      <td>0</td>\n    </tr>\n    <tr>\n      <th>zip[T.11206]</th>\n      <td>0</td>\n    </tr>\n    <tr>\n      <th>zip[T.11225]</th>\n      <td>0</td>\n    </tr>\n    <tr>\n      <th>beds</th>\n      <td>2</td>\n    </tr>\n  </tbody>\n</table>\n</div>"
     },
     "metadata": {},
     "execution_count": 105
    }
   ],
   "source": [
    "tpdf"
   ]
  },
  {
   "cell_type": "code",
   "execution_count": 106,
   "metadata": {},
   "outputs": [],
   "source": [
    "tpdf['value'] = 0\n",
    "tpdf.loc['Intercept'] = 1\n",
    "tpdf.loc['beds'] = 2\n",
    "tpdf.loc['zip[T.11201]'] = 1"
   ]
  },
  {
   "cell_type": "code",
   "execution_count": 107,
   "metadata": {},
   "outputs": [
    {
     "output_type": "execute_result",
     "data": {
      "text/plain": "              value\nIntercept         1\nzip[T.10003]      0\nzip[T.10009]      0\nzip[T.10012]      0\nzip[T.10018]      0\nzip[T.10023]      0\nzip[T.10025]      0\nzip[T.10128]      0\nzip[T.10280]      0\nzip[T.11201]      1\nzip[T.11206]      0\nzip[T.11225]      0\nbeds              2",
      "text/html": "<div>\n<style scoped>\n    .dataframe tbody tr th:only-of-type {\n        vertical-align: middle;\n    }\n\n    .dataframe tbody tr th {\n        vertical-align: top;\n    }\n\n    .dataframe thead th {\n        text-align: right;\n    }\n</style>\n<table border=\"1\" class=\"dataframe\">\n  <thead>\n    <tr style=\"text-align: right;\">\n      <th></th>\n      <th>value</th>\n    </tr>\n  </thead>\n  <tbody>\n    <tr>\n      <th>Intercept</th>\n      <td>1</td>\n    </tr>\n    <tr>\n      <th>zip[T.10003]</th>\n      <td>0</td>\n    </tr>\n    <tr>\n      <th>zip[T.10009]</th>\n      <td>0</td>\n    </tr>\n    <tr>\n      <th>zip[T.10012]</th>\n      <td>0</td>\n    </tr>\n    <tr>\n      <th>zip[T.10018]</th>\n      <td>0</td>\n    </tr>\n    <tr>\n      <th>zip[T.10023]</th>\n      <td>0</td>\n    </tr>\n    <tr>\n      <th>zip[T.10025]</th>\n      <td>0</td>\n    </tr>\n    <tr>\n      <th>zip[T.10128]</th>\n      <td>0</td>\n    </tr>\n    <tr>\n      <th>zip[T.10280]</th>\n      <td>0</td>\n    </tr>\n    <tr>\n      <th>zip[T.11201]</th>\n      <td>1</td>\n    </tr>\n    <tr>\n      <th>zip[T.11206]</th>\n      <td>0</td>\n    </tr>\n    <tr>\n      <th>zip[T.11225]</th>\n      <td>0</td>\n    </tr>\n    <tr>\n      <th>beds</th>\n      <td>2</td>\n    </tr>\n  </tbody>\n</table>\n</div>"
     },
     "metadata": {},
     "execution_count": 107
    }
   ],
   "source": [
    "tpdf"
   ]
  },
  {
   "cell_type": "code",
   "execution_count": 109,
   "metadata": {},
   "outputs": [
    {
     "output_type": "execute_result",
     "data": {
      "text/plain": "value   -5161.0\ndtype: float64"
     },
     "metadata": {},
     "execution_count": 109
    }
   ],
   "source": [
    "results.predict(tpdf['value'].to_frame().T)"
   ]
  },
  {
   "cell_type": "code",
   "execution_count": null,
   "metadata": {},
   "outputs": [],
   "source": []
  }
 ],
 "metadata": {
  "kernelspec": {
   "display_name": "Python 3.7.7 64-bit ('work': conda)",
   "language": "python",
   "name": "python37764bitworkconda23fa24f4f02a4d25ae6ccbff27cf086c"
  },
  "language_info": {
   "codemirror_mode": {
    "name": "ipython",
    "version": 3
   },
   "file_extension": ".py",
   "mimetype": "text/x-python",
   "name": "python",
   "nbconvert_exporter": "python",
   "pygments_lexer": "ipython3",
   "version": "3.8.2-final"
  }
 },
 "nbformat": 4,
 "nbformat_minor": 2
}